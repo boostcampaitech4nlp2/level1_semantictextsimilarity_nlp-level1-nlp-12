{
 "cells": [
  {
   "cell_type": "markdown",
   "id": "366286bb",
   "metadata": {},
   "source": [
    "**Created by Kim Jinho** <br>\n",
    "**📚📝📜📃 Semantic Text Similarity** <br>\n",
    "**24 October 2022** \n"
   ]
  },
  {
   "cell_type": "markdown",
   "id": "ae146c6a",
   "metadata": {},
   "source": [
    "## 📋 Table of Contents\n",
    "<a id=\"toc\"></a>\n",
    "- [1. Imports](#1)\n",
    "- [2. Data Loading and Preperation](#2)\n",
    "- [3. Exploring Data](#3)\n",
    "- [4. Data Cleansing](#4)\n",
    "- [5. EDA(Exploratory Data Analysis)](#5)\n",
    "- [6. Data Visualization](#6)\n",
    "- [7. ML Modeling](#7)\n",
    "\n"
   ]
  },
  {
   "cell_type": "markdown",
   "id": "e3f457ad",
   "metadata": {},
   "source": [
    "<a id=\"1\"></a>\n",
    "## 💪 Imports "
   ]
  },
  {
   "cell_type": "code",
   "execution_count": 1,
   "id": "06224b5e",
   "metadata": {},
   "outputs": [],
   "source": [
    "# Import Library\n",
    "\n",
    "# For Data Analysis\n",
    "import os\n",
    "import numpy as np                 \n",
    "import pandas as pd                \n",
    "import matplotlib.pyplot as plt    \n",
    "import seaborn as sns              \n",
    "import plotly.express as px"
   ]
  },
  {
   "cell_type": "markdown",
   "id": "6a430b83",
   "metadata": {},
   "source": [
    "<a id=\"2\"></a>\n",
    "## 🙋‍♂️ Data Loading and Preparing\n"
   ]
  },
  {
   "cell_type": "code",
   "execution_count": 2,
   "id": "c0854988",
   "metadata": {},
   "outputs": [
    {
     "data": {
      "text/html": [
       "<div>\n",
       "<style scoped>\n",
       "    .dataframe tbody tr th:only-of-type {\n",
       "        vertical-align: middle;\n",
       "    }\n",
       "\n",
       "    .dataframe tbody tr th {\n",
       "        vertical-align: top;\n",
       "    }\n",
       "\n",
       "    .dataframe thead th {\n",
       "        text-align: right;\n",
       "    }\n",
       "</style>\n",
       "<table border=\"1\" class=\"dataframe\">\n",
       "  <thead>\n",
       "    <tr style=\"text-align: right;\">\n",
       "      <th></th>\n",
       "      <th>id</th>\n",
       "      <th>source</th>\n",
       "      <th>sentence_1</th>\n",
       "      <th>sentence_2</th>\n",
       "      <th>label</th>\n",
       "      <th>binary-label</th>\n",
       "    </tr>\n",
       "  </thead>\n",
       "  <tbody>\n",
       "    <tr>\n",
       "      <th>0</th>\n",
       "      <td>boostcamp-sts-v1-train-000</td>\n",
       "      <td>nsmc-sampled</td>\n",
       "      <td>스릴도있고 반전도 있고 여느 한국영화 쓰레기들하고는 차원이 다르네요~</td>\n",
       "      <td>반전도 있고,사랑도 있고재미도있네요.</td>\n",
       "      <td>2.2</td>\n",
       "      <td>0.0</td>\n",
       "    </tr>\n",
       "    <tr>\n",
       "      <th>1</th>\n",
       "      <td>boostcamp-sts-v1-train-001</td>\n",
       "      <td>slack-rtt</td>\n",
       "      <td>앗 제가 접근권한이 없다고 뜹니다;;</td>\n",
       "      <td>오, 액세스 권한이 없다고 합니다.</td>\n",
       "      <td>4.2</td>\n",
       "      <td>1.0</td>\n",
       "    </tr>\n",
       "    <tr>\n",
       "      <th>2</th>\n",
       "      <td>boostcamp-sts-v1-train-002</td>\n",
       "      <td>petition-sampled</td>\n",
       "      <td>주택청약조건 변경해주세요.</td>\n",
       "      <td>주택청약 무주택기준 변경해주세요.</td>\n",
       "      <td>2.4</td>\n",
       "      <td>0.0</td>\n",
       "    </tr>\n",
       "    <tr>\n",
       "      <th>3</th>\n",
       "      <td>boostcamp-sts-v1-train-003</td>\n",
       "      <td>slack-sampled</td>\n",
       "      <td>입사후 처음 대면으로 만나 반가웠습니다.</td>\n",
       "      <td>화상으로만 보다가 리얼로 만나니 정말 반가웠습니다.</td>\n",
       "      <td>3.0</td>\n",
       "      <td>1.0</td>\n",
       "    </tr>\n",
       "    <tr>\n",
       "      <th>4</th>\n",
       "      <td>boostcamp-sts-v1-train-004</td>\n",
       "      <td>slack-sampled</td>\n",
       "      <td>뿌듯뿌듯 하네요!!</td>\n",
       "      <td>꼬옥 실제로 한번 뵈어요 뿌뿌뿌~!~!</td>\n",
       "      <td>0.0</td>\n",
       "      <td>0.0</td>\n",
       "    </tr>\n",
       "    <tr>\n",
       "      <th>...</th>\n",
       "      <td>...</td>\n",
       "      <td>...</td>\n",
       "      <td>...</td>\n",
       "      <td>...</td>\n",
       "      <td>...</td>\n",
       "      <td>...</td>\n",
       "    </tr>\n",
       "    <tr>\n",
       "      <th>9319</th>\n",
       "      <td>boostcamp-sts-v1-train-9319</td>\n",
       "      <td>petition-sampled</td>\n",
       "      <td>교원능력개발평가에서 교원이 보호받을 수 있는 장치를 마련해야합니다</td>\n",
       "      <td>본인이 납부한 국민연금 금액을 기준으로 대출을 받을 수 있는 제도를 마련해 주세요</td>\n",
       "      <td>0.2</td>\n",
       "      <td>0.0</td>\n",
       "    </tr>\n",
       "    <tr>\n",
       "      <th>9320</th>\n",
       "      <td>boostcamp-sts-v1-train-9320</td>\n",
       "      <td>petition-sampled</td>\n",
       "      <td>여성가족부의 폐지를 원합니드</td>\n",
       "      <td>여성가족부 폐지를 청원 합니다.</td>\n",
       "      <td>4.2</td>\n",
       "      <td>1.0</td>\n",
       "    </tr>\n",
       "    <tr>\n",
       "      <th>9321</th>\n",
       "      <td>boostcamp-sts-v1-train-9321</td>\n",
       "      <td>petition-sampled</td>\n",
       "      <td>국회의원들 월급좀 줄여주세요</td>\n",
       "      <td>공무원 봉급좀 줄이지좀 마세요</td>\n",
       "      <td>0.6</td>\n",
       "      <td>0.0</td>\n",
       "    </tr>\n",
       "    <tr>\n",
       "      <th>9322</th>\n",
       "      <td>boostcamp-sts-v1-train-9322</td>\n",
       "      <td>slack-sampled</td>\n",
       "      <td>오늘 못한 점심은 다음에 다시 츄라이 하기로 해요!!</td>\n",
       "      <td>오늘 못먹은 밥은 꼭 담에 먹기로 하고요!!</td>\n",
       "      <td>3.2</td>\n",
       "      <td>1.0</td>\n",
       "    </tr>\n",
       "    <tr>\n",
       "      <th>9323</th>\n",
       "      <td>boostcamp-sts-v1-train-9323</td>\n",
       "      <td>petition-sampled</td>\n",
       "      <td>법정공휴일 휴무관련 (근로자)</td>\n",
       "      <td>법정공휴일의 유급휴무화를 막아야 합니다.</td>\n",
       "      <td>1.4</td>\n",
       "      <td>0.0</td>\n",
       "    </tr>\n",
       "  </tbody>\n",
       "</table>\n",
       "<p>9324 rows × 6 columns</p>\n",
       "</div>"
      ],
      "text/plain": [
       "                               id            source  \\\n",
       "0      boostcamp-sts-v1-train-000      nsmc-sampled   \n",
       "1      boostcamp-sts-v1-train-001         slack-rtt   \n",
       "2      boostcamp-sts-v1-train-002  petition-sampled   \n",
       "3      boostcamp-sts-v1-train-003     slack-sampled   \n",
       "4      boostcamp-sts-v1-train-004     slack-sampled   \n",
       "...                           ...               ...   \n",
       "9319  boostcamp-sts-v1-train-9319  petition-sampled   \n",
       "9320  boostcamp-sts-v1-train-9320  petition-sampled   \n",
       "9321  boostcamp-sts-v1-train-9321  petition-sampled   \n",
       "9322  boostcamp-sts-v1-train-9322     slack-sampled   \n",
       "9323  boostcamp-sts-v1-train-9323  petition-sampled   \n",
       "\n",
       "                                  sentence_1  \\\n",
       "0     스릴도있고 반전도 있고 여느 한국영화 쓰레기들하고는 차원이 다르네요~   \n",
       "1                       앗 제가 접근권한이 없다고 뜹니다;;   \n",
       "2                             주택청약조건 변경해주세요.   \n",
       "3                     입사후 처음 대면으로 만나 반가웠습니다.   \n",
       "4                                 뿌듯뿌듯 하네요!!   \n",
       "...                                      ...   \n",
       "9319    교원능력개발평가에서 교원이 보호받을 수 있는 장치를 마련해야합니다   \n",
       "9320                         여성가족부의 폐지를 원합니드   \n",
       "9321                         국회의원들 월급좀 줄여주세요   \n",
       "9322           오늘 못한 점심은 다음에 다시 츄라이 하기로 해요!!   \n",
       "9323                        법정공휴일 휴무관련 (근로자)   \n",
       "\n",
       "                                         sentence_2  label  binary-label  \n",
       "0                              반전도 있고,사랑도 있고재미도있네요.    2.2           0.0  \n",
       "1                               오, 액세스 권한이 없다고 합니다.    4.2           1.0  \n",
       "2                                주택청약 무주택기준 변경해주세요.    2.4           0.0  \n",
       "3                      화상으로만 보다가 리얼로 만나니 정말 반가웠습니다.    3.0           1.0  \n",
       "4                             꼬옥 실제로 한번 뵈어요 뿌뿌뿌~!~!    0.0           0.0  \n",
       "...                                             ...    ...           ...  \n",
       "9319  본인이 납부한 국민연금 금액을 기준으로 대출을 받을 수 있는 제도를 마련해 주세요    0.2           0.0  \n",
       "9320                              여성가족부 폐지를 청원 합니다.    4.2           1.0  \n",
       "9321                               공무원 봉급좀 줄이지좀 마세요    0.6           0.0  \n",
       "9322                       오늘 못먹은 밥은 꼭 담에 먹기로 하고요!!    3.2           1.0  \n",
       "9323                         법정공휴일의 유급휴무화를 막아야 합니다.    1.4           0.0  \n",
       "\n",
       "[9324 rows x 6 columns]"
      ]
     },
     "execution_count": 2,
     "metadata": {},
     "output_type": "execute_result"
    }
   ],
   "source": [
    "# file path save\n",
    "FILE_PATH = './data'\n",
    "train_path = os.path.join(FILE_PATH, 'train.csv')\n",
    "valid_path = os.path.join(FILE_PATH, 'dev.csv')\n",
    "test_path = os.path.join(FILE_PATH, 'test.csv')\n",
    "ss_path = os.path.join(FILE_PATH, 'sample_submission.csv')\n",
    "\n",
    "# Load dataset\n",
    "train_df = pd.read_csv(train_path, engine='python')\n",
    "valid_df = pd.read_csv(valid_path, engine='python')\n",
    "test_df = pd.read_csv(test_path, engine='python')\n",
    "ss_df = pd.read_csv(ss_path, engine='python')\n",
    "\n",
    "train_df"
   ]
  },
  {
   "cell_type": "code",
   "execution_count": 3,
   "id": "5c35e551",
   "metadata": {},
   "outputs": [
    {
     "data": {
      "text/html": [
       "<div>\n",
       "<style scoped>\n",
       "    .dataframe tbody tr th:only-of-type {\n",
       "        vertical-align: middle;\n",
       "    }\n",
       "\n",
       "    .dataframe tbody tr th {\n",
       "        vertical-align: top;\n",
       "    }\n",
       "\n",
       "    .dataframe thead th {\n",
       "        text-align: right;\n",
       "    }\n",
       "</style>\n",
       "<table border=\"1\" class=\"dataframe\">\n",
       "  <thead>\n",
       "    <tr style=\"text-align: right;\">\n",
       "      <th></th>\n",
       "      <th>id</th>\n",
       "      <th>source</th>\n",
       "      <th>sentence_1</th>\n",
       "      <th>sentence_2</th>\n",
       "      <th>label</th>\n",
       "      <th>binary-label</th>\n",
       "    </tr>\n",
       "  </thead>\n",
       "  <tbody>\n",
       "    <tr>\n",
       "      <th>0</th>\n",
       "      <td>boostcamp-sts-v1-dev-000</td>\n",
       "      <td>nsmc-sampled</td>\n",
       "      <td>액션은개뿔 총몇번쏘고 끝입니다</td>\n",
       "      <td>액션은 흉내만 내고 그마저도 후반부에는 슬로우모션 처리</td>\n",
       "      <td>2.0</td>\n",
       "      <td>0.0</td>\n",
       "    </tr>\n",
       "    <tr>\n",
       "      <th>1</th>\n",
       "      <td>boostcamp-sts-v1-dev-001</td>\n",
       "      <td>slack-rtt</td>\n",
       "      <td>감격스러워 입막으심?</td>\n",
       "      <td>너무 감동해서 입 다물어?</td>\n",
       "      <td>3.4</td>\n",
       "      <td>1.0</td>\n",
       "    </tr>\n",
       "    <tr>\n",
       "      <th>2</th>\n",
       "      <td>boostcamp-sts-v1-dev-002</td>\n",
       "      <td>nsmc-rtt</td>\n",
       "      <td>이번 년도에 본 영화 중 가장 최악의 영화......</td>\n",
       "      <td>올해 본 영화 중 최악...</td>\n",
       "      <td>4.0</td>\n",
       "      <td>1.0</td>\n",
       "    </tr>\n",
       "    <tr>\n",
       "      <th>3</th>\n",
       "      <td>boostcamp-sts-v1-dev-003</td>\n",
       "      <td>slack-rtt</td>\n",
       "      <td>특히 평소 뮤직채널에 많은 영감을 불어넣어주시는!</td>\n",
       "      <td>특히, 당신은 항상 많은 음악 채널에 영감을 줍니다!</td>\n",
       "      <td>3.4</td>\n",
       "      <td>1.0</td>\n",
       "    </tr>\n",
       "    <tr>\n",
       "      <th>4</th>\n",
       "      <td>boostcamp-sts-v1-dev-004</td>\n",
       "      <td>slack-sampled</td>\n",
       "      <td>다음 밥스테이지가 기대됩니다~ ㅎ</td>\n",
       "      <td>다음 후기도 기대됩니다~~</td>\n",
       "      <td>1.4</td>\n",
       "      <td>0.0</td>\n",
       "    </tr>\n",
       "    <tr>\n",
       "      <th>...</th>\n",
       "      <td>...</td>\n",
       "      <td>...</td>\n",
       "      <td>...</td>\n",
       "      <td>...</td>\n",
       "      <td>...</td>\n",
       "      <td>...</td>\n",
       "    </tr>\n",
       "    <tr>\n",
       "      <th>545</th>\n",
       "      <td>boostcamp-sts-v1-dev-545</td>\n",
       "      <td>nsmc-sampled</td>\n",
       "      <td>사회적 이슈를 다루고 있는 가슴 찡한 드라마네요,,,</td>\n",
       "      <td>정말 가슴을 따뜻하게 한 좋은 드라마...</td>\n",
       "      <td>2.0</td>\n",
       "      <td>0.0</td>\n",
       "    </tr>\n",
       "    <tr>\n",
       "      <th>546</th>\n",
       "      <td>boostcamp-sts-v1-dev-546</td>\n",
       "      <td>slack-rtt</td>\n",
       "      <td>(비타민 먹는 장면)</td>\n",
       "      <td>(비타민을 먹는 장면)</td>\n",
       "      <td>4.8</td>\n",
       "      <td>1.0</td>\n",
       "    </tr>\n",
       "    <tr>\n",
       "      <th>547</th>\n",
       "      <td>boostcamp-sts-v1-dev-547</td>\n",
       "      <td>nsmc-sampled</td>\n",
       "      <td>내용이 뭔 내용인지도 모르겠음</td>\n",
       "      <td>무슨의미로 만들었는지 모르겠음..</td>\n",
       "      <td>2.4</td>\n",
       "      <td>0.0</td>\n",
       "    </tr>\n",
       "    <tr>\n",
       "      <th>548</th>\n",
       "      <td>boostcamp-sts-v1-dev-548</td>\n",
       "      <td>slack-rtt</td>\n",
       "      <td>(예: 주말에는 개인캘린더만, 업무시간에는 업무 캘린더만 보기)</td>\n",
       "      <td>(예: 주말에는 개인캘린더만 보고, 업무시간에는 업무캘린더만 보기)</td>\n",
       "      <td>5.0</td>\n",
       "      <td>1.0</td>\n",
       "    </tr>\n",
       "    <tr>\n",
       "      <th>549</th>\n",
       "      <td>boostcamp-sts-v1-dev-549</td>\n",
       "      <td>nsmc-rtt</td>\n",
       "      <td>다소 허접한 영상도 군데군데 있음.</td>\n",
       "      <td>엉뚱한 영상도 몇 개 있습니다.</td>\n",
       "      <td>2.2</td>\n",
       "      <td>0.0</td>\n",
       "    </tr>\n",
       "  </tbody>\n",
       "</table>\n",
       "<p>550 rows × 6 columns</p>\n",
       "</div>"
      ],
      "text/plain": [
       "                           id         source  \\\n",
       "0    boostcamp-sts-v1-dev-000   nsmc-sampled   \n",
       "1    boostcamp-sts-v1-dev-001      slack-rtt   \n",
       "2    boostcamp-sts-v1-dev-002       nsmc-rtt   \n",
       "3    boostcamp-sts-v1-dev-003      slack-rtt   \n",
       "4    boostcamp-sts-v1-dev-004  slack-sampled   \n",
       "..                        ...            ...   \n",
       "545  boostcamp-sts-v1-dev-545   nsmc-sampled   \n",
       "546  boostcamp-sts-v1-dev-546      slack-rtt   \n",
       "547  boostcamp-sts-v1-dev-547   nsmc-sampled   \n",
       "548  boostcamp-sts-v1-dev-548      slack-rtt   \n",
       "549  boostcamp-sts-v1-dev-549       nsmc-rtt   \n",
       "\n",
       "                              sentence_1  \\\n",
       "0                       액션은개뿔 총몇번쏘고 끝입니다   \n",
       "1                            감격스러워 입막으심?   \n",
       "2          이번 년도에 본 영화 중 가장 최악의 영화......   \n",
       "3            특히 평소 뮤직채널에 많은 영감을 불어넣어주시는!   \n",
       "4                     다음 밥스테이지가 기대됩니다~ ㅎ   \n",
       "..                                   ...   \n",
       "545        사회적 이슈를 다루고 있는 가슴 찡한 드라마네요,,,   \n",
       "546                          (비타민 먹는 장면)   \n",
       "547                     내용이 뭔 내용인지도 모르겠음   \n",
       "548  (예: 주말에는 개인캘린더만, 업무시간에는 업무 캘린더만 보기)   \n",
       "549                  다소 허접한 영상도 군데군데 있음.   \n",
       "\n",
       "                                sentence_2  label  binary-label  \n",
       "0           액션은 흉내만 내고 그마저도 후반부에는 슬로우모션 처리    2.0           0.0  \n",
       "1                           너무 감동해서 입 다물어?    3.4           1.0  \n",
       "2                          올해 본 영화 중 최악...    4.0           1.0  \n",
       "3            특히, 당신은 항상 많은 음악 채널에 영감을 줍니다!    3.4           1.0  \n",
       "4                           다음 후기도 기대됩니다~~    1.4           0.0  \n",
       "..                                     ...    ...           ...  \n",
       "545                정말 가슴을 따뜻하게 한 좋은 드라마...    2.0           0.0  \n",
       "546                           (비타민을 먹는 장면)    4.8           1.0  \n",
       "547                     무슨의미로 만들었는지 모르겠음..    2.4           0.0  \n",
       "548  (예: 주말에는 개인캘린더만 보고, 업무시간에는 업무캘린더만 보기)    5.0           1.0  \n",
       "549                      엉뚱한 영상도 몇 개 있습니다.    2.2           0.0  \n",
       "\n",
       "[550 rows x 6 columns]"
      ]
     },
     "execution_count": 3,
     "metadata": {},
     "output_type": "execute_result"
    }
   ],
   "source": [
    "valid_df"
   ]
  },
  {
   "cell_type": "code",
   "execution_count": 4,
   "id": "f473511a",
   "metadata": {},
   "outputs": [
    {
     "data": {
      "text/html": [
       "<div>\n",
       "<style scoped>\n",
       "    .dataframe tbody tr th:only-of-type {\n",
       "        vertical-align: middle;\n",
       "    }\n",
       "\n",
       "    .dataframe tbody tr th {\n",
       "        vertical-align: top;\n",
       "    }\n",
       "\n",
       "    .dataframe thead th {\n",
       "        text-align: right;\n",
       "    }\n",
       "</style>\n",
       "<table border=\"1\" class=\"dataframe\">\n",
       "  <thead>\n",
       "    <tr style=\"text-align: right;\">\n",
       "      <th></th>\n",
       "      <th>id</th>\n",
       "      <th>source</th>\n",
       "      <th>sentence_1</th>\n",
       "      <th>sentence_2</th>\n",
       "    </tr>\n",
       "  </thead>\n",
       "  <tbody>\n",
       "    <tr>\n",
       "      <th>0</th>\n",
       "      <td>boostcamp-sts-v1-test-000</td>\n",
       "      <td>petition-sampled</td>\n",
       "      <td>가상화폐거래소 폐쇄하지 말고</td>\n",
       "      <td>가상화폐 거래소 폐쇄 반대합니다</td>\n",
       "    </tr>\n",
       "    <tr>\n",
       "      <th>1</th>\n",
       "      <td>boostcamp-sts-v1-test-001</td>\n",
       "      <td>petition-sampled</td>\n",
       "      <td>뇌물적폐1호 640만달라 70억 뇌물받은 권양숙 구속하고 재산을 몰수하라</td>\n",
       "      <td>뇌물적폐 원조 640만달라 70억 뇌물받은 권양숙 구속하고 재산을 몰수하세요</td>\n",
       "    </tr>\n",
       "    <tr>\n",
       "      <th>2</th>\n",
       "      <td>boostcamp-sts-v1-test-002</td>\n",
       "      <td>petition-rtt</td>\n",
       "      <td>기무사 영관급의 하극상 정말 이대로 방관하는게 민주주의 인지요</td>\n",
       "      <td>그냥 가만히 있는게 진짜 민주주의인가요?</td>\n",
       "    </tr>\n",
       "    <tr>\n",
       "      <th>3</th>\n",
       "      <td>boostcamp-sts-v1-test-003</td>\n",
       "      <td>nsmc-sampled</td>\n",
       "      <td>화까지가 한계였다.</td>\n",
       "      <td>기대가 너무 컸다...</td>\n",
       "    </tr>\n",
       "    <tr>\n",
       "      <th>4</th>\n",
       "      <td>boostcamp-sts-v1-test-004</td>\n",
       "      <td>slack-rtt</td>\n",
       "      <td>왜 혼자 있지.. ㅠㅠ</td>\n",
       "      <td>왜 혼자야.. ㅠㅠ</td>\n",
       "    </tr>\n",
       "    <tr>\n",
       "      <th>...</th>\n",
       "      <td>...</td>\n",
       "      <td>...</td>\n",
       "      <td>...</td>\n",
       "      <td>...</td>\n",
       "    </tr>\n",
       "    <tr>\n",
       "      <th>1095</th>\n",
       "      <td>boostcamp-sts-v1-test-1095</td>\n",
       "      <td>slack-sampled</td>\n",
       "      <td>슬랙 채널 개편: 현재 75개의 채널들이 있는데 사용되지 않는 채널들은 정리하고, ...</td>\n",
       "      <td>오늘 슬랙의 채널 및 사용 권한에 대한 변경이 있을 예정입니다!</td>\n",
       "    </tr>\n",
       "    <tr>\n",
       "      <th>1096</th>\n",
       "      <td>boostcamp-sts-v1-test-1096</td>\n",
       "      <td>petition-rtt</td>\n",
       "      <td>청소년보호법 폐지 청원합니다</td>\n",
       "      <td>청소년보호법 폐지 청원서</td>\n",
       "    </tr>\n",
       "    <tr>\n",
       "      <th>1097</th>\n",
       "      <td>boostcamp-sts-v1-test-1097</td>\n",
       "      <td>petition-rtt</td>\n",
       "      <td>존경하는 문대통령님 상서 경유 자동차 단속 대상은 매연이 마니 나오는 화물자동차에 ...</td>\n",
       "      <td>친애하는 문 대통령님, 디젤차량 단속이 매연을 내는 트럭으로 제한되기를 간절히 기도...</td>\n",
       "    </tr>\n",
       "    <tr>\n",
       "      <th>1098</th>\n",
       "      <td>boostcamp-sts-v1-test-1098</td>\n",
       "      <td>nsmc-rtt</td>\n",
       "      <td>요즘 재미가 훅 떨어짐...</td>\n",
       "      <td>요즘 재미가 사라졌다...</td>\n",
       "    </tr>\n",
       "    <tr>\n",
       "      <th>1099</th>\n",
       "      <td>boostcamp-sts-v1-test-1099</td>\n",
       "      <td>nsmc-sampled</td>\n",
       "      <td>재밌게 봤습니다 ㅋㅋ!</td>\n",
       "      <td>재밌게봤습니다 ㅎㅎ</td>\n",
       "    </tr>\n",
       "  </tbody>\n",
       "</table>\n",
       "<p>1100 rows × 4 columns</p>\n",
       "</div>"
      ],
      "text/plain": [
       "                              id            source  \\\n",
       "0      boostcamp-sts-v1-test-000  petition-sampled   \n",
       "1      boostcamp-sts-v1-test-001  petition-sampled   \n",
       "2      boostcamp-sts-v1-test-002      petition-rtt   \n",
       "3      boostcamp-sts-v1-test-003      nsmc-sampled   \n",
       "4      boostcamp-sts-v1-test-004         slack-rtt   \n",
       "...                          ...               ...   \n",
       "1095  boostcamp-sts-v1-test-1095     slack-sampled   \n",
       "1096  boostcamp-sts-v1-test-1096      petition-rtt   \n",
       "1097  boostcamp-sts-v1-test-1097      petition-rtt   \n",
       "1098  boostcamp-sts-v1-test-1098          nsmc-rtt   \n",
       "1099  boostcamp-sts-v1-test-1099      nsmc-sampled   \n",
       "\n",
       "                                             sentence_1  \\\n",
       "0                                       가상화폐거래소 폐쇄하지 말고   \n",
       "1              뇌물적폐1호 640만달라 70억 뇌물받은 권양숙 구속하고 재산을 몰수하라   \n",
       "2                    기무사 영관급의 하극상 정말 이대로 방관하는게 민주주의 인지요   \n",
       "3                                            화까지가 한계였다.   \n",
       "4                                          왜 혼자 있지.. ㅠㅠ   \n",
       "...                                                 ...   \n",
       "1095  슬랙 채널 개편: 현재 75개의 채널들이 있는데 사용되지 않는 채널들은 정리하고, ...   \n",
       "1096                                    청소년보호법 폐지 청원합니다   \n",
       "1097  존경하는 문대통령님 상서 경유 자동차 단속 대상은 매연이 마니 나오는 화물자동차에 ...   \n",
       "1098                                    요즘 재미가 훅 떨어짐...   \n",
       "1099                                       재밌게 봤습니다 ㅋㅋ!   \n",
       "\n",
       "                                             sentence_2  \n",
       "0                                     가상화폐 거래소 폐쇄 반대합니다  \n",
       "1            뇌물적폐 원조 640만달라 70억 뇌물받은 권양숙 구속하고 재산을 몰수하세요  \n",
       "2                                그냥 가만히 있는게 진짜 민주주의인가요?  \n",
       "3                                          기대가 너무 컸다...  \n",
       "4                                            왜 혼자야.. ㅠㅠ  \n",
       "...                                                 ...  \n",
       "1095                오늘 슬랙의 채널 및 사용 권한에 대한 변경이 있을 예정입니다!  \n",
       "1096                                      청소년보호법 폐지 청원서  \n",
       "1097  친애하는 문 대통령님, 디젤차량 단속이 매연을 내는 트럭으로 제한되기를 간절히 기도...  \n",
       "1098                                     요즘 재미가 사라졌다...  \n",
       "1099                                         재밌게봤습니다 ㅎㅎ  \n",
       "\n",
       "[1100 rows x 4 columns]"
      ]
     },
     "execution_count": 4,
     "metadata": {},
     "output_type": "execute_result"
    }
   ],
   "source": [
    "test_df"
   ]
  },
  {
   "cell_type": "markdown",
   "id": "e5d6c8f8",
   "metadata": {},
   "source": [
    "<a id=\"3\"></a>\n",
    "## 🔍 Exploring Data\n"
   ]
  },
  {
   "cell_type": "code",
   "execution_count": 5,
   "id": "a6a3da5f",
   "metadata": {},
   "outputs": [
    {
     "name": "stdout",
     "output_type": "stream",
     "text": [
      "<class 'pandas.core.frame.DataFrame'>\n",
      "RangeIndex: 9324 entries, 0 to 9323\n",
      "Data columns (total 6 columns):\n",
      " #   Column        Non-Null Count  Dtype  \n",
      "---  ------        --------------  -----  \n",
      " 0   id            9324 non-null   object \n",
      " 1   source        9324 non-null   object \n",
      " 2   sentence_1    9324 non-null   object \n",
      " 3   sentence_2    9324 non-null   object \n",
      " 4   label         9324 non-null   float64\n",
      " 5   binary-label  9324 non-null   float64\n",
      "dtypes: float64(2), object(4)\n",
      "memory usage: 437.2+ KB\n"
     ]
    }
   ],
   "source": [
    "# print train_df DataFrame\n",
    "train_df.info()"
   ]
  },
  {
   "cell_type": "code",
   "execution_count": 6,
   "id": "9d7d042f",
   "metadata": {},
   "outputs": [
    {
     "name": "stdout",
     "output_type": "stream",
     "text": [
      "<class 'pandas.core.frame.DataFrame'>\n",
      "RangeIndex: 550 entries, 0 to 549\n",
      "Data columns (total 6 columns):\n",
      " #   Column        Non-Null Count  Dtype  \n",
      "---  ------        --------------  -----  \n",
      " 0   id            550 non-null    object \n",
      " 1   source        550 non-null    object \n",
      " 2   sentence_1    550 non-null    object \n",
      " 3   sentence_2    550 non-null    object \n",
      " 4   label         550 non-null    float64\n",
      " 5   binary-label  550 non-null    float64\n",
      "dtypes: float64(2), object(4)\n",
      "memory usage: 25.9+ KB\n"
     ]
    }
   ],
   "source": [
    "valid_df.info()"
   ]
  },
  {
   "cell_type": "code",
   "execution_count": 7,
   "id": "076699d7",
   "metadata": {},
   "outputs": [
    {
     "name": "stdout",
     "output_type": "stream",
     "text": [
      "<class 'pandas.core.frame.DataFrame'>\n",
      "RangeIndex: 1100 entries, 0 to 1099\n",
      "Data columns (total 4 columns):\n",
      " #   Column      Non-Null Count  Dtype \n",
      "---  ------      --------------  ----- \n",
      " 0   id          1100 non-null   object\n",
      " 1   source      1100 non-null   object\n",
      " 2   sentence_1  1100 non-null   object\n",
      " 3   sentence_2  1100 non-null   object\n",
      "dtypes: object(4)\n",
      "memory usage: 34.5+ KB\n"
     ]
    }
   ],
   "source": [
    "test_df.info()"
   ]
  },
  {
   "cell_type": "markdown",
   "id": "2dc6e19d",
   "metadata": {},
   "source": [
    "<a id=\"4\"></a>\n",
    "## ✂️ Data Cleansing\n",
    "\n",
    "<span style='color:red'>생략 예정</span>"
   ]
  },
  {
   "cell_type": "markdown",
   "id": "2130bf6e",
   "metadata": {},
   "source": [
    "<a id=\"5\"></a>\n",
    "## ✈️ EDA(Exploratory Data Analysis)"
   ]
  },
  {
   "cell_type": "markdown",
   "id": "25999222",
   "metadata": {},
   "source": [
    "`binary-label` : 문장 쌍에 대한 유사도가 2점 이하인 경우엔 0으로, 3점 이상인 경우엔 1로 변환한 binary label 입니다.\n",
    "\n",
    "정확히는 2.5 미만인 경우엔 0으로, 2.5 이상인 경우엔 1로 변환한 binary label 입니다."
   ]
  },
  {
   "cell_type": "code",
   "execution_count": 8,
   "id": "8b45f156",
   "metadata": {},
   "outputs": [
    {
     "data": {
      "text/plain": [
       "0.0    5692\n",
       "1.0    3632\n",
       "Name: binary-label, dtype: int64"
      ]
     },
     "execution_count": 8,
     "metadata": {},
     "output_type": "execute_result"
    }
   ],
   "source": [
    "train_df['binary-label'].value_counts()"
   ]
  },
  {
   "cell_type": "code",
   "execution_count": 9,
   "id": "199add9e",
   "metadata": {},
   "outputs": [
    {
     "data": {
      "text/html": [
       "<div>\n",
       "<style scoped>\n",
       "    .dataframe tbody tr th:only-of-type {\n",
       "        vertical-align: middle;\n",
       "    }\n",
       "\n",
       "    .dataframe tbody tr th {\n",
       "        vertical-align: top;\n",
       "    }\n",
       "\n",
       "    .dataframe thead th {\n",
       "        text-align: right;\n",
       "    }\n",
       "</style>\n",
       "<table border=\"1\" class=\"dataframe\">\n",
       "  <thead>\n",
       "    <tr style=\"text-align: right;\">\n",
       "      <th></th>\n",
       "      <th>id</th>\n",
       "      <th>source</th>\n",
       "      <th>sentence_1</th>\n",
       "      <th>sentence_2</th>\n",
       "      <th>label</th>\n",
       "      <th>binary-label</th>\n",
       "    </tr>\n",
       "  </thead>\n",
       "  <tbody>\n",
       "    <tr>\n",
       "      <th>137</th>\n",
       "      <td>boostcamp-sts-v1-train-137</td>\n",
       "      <td>slack-rtt</td>\n",
       "      <td>평화로 어딘가일 경우, 한수위</td>\n",
       "      <td>평화로운 곳이라면 최고</td>\n",
       "      <td>2.5</td>\n",
       "      <td>1.0</td>\n",
       "    </tr>\n",
       "    <tr>\n",
       "      <th>360</th>\n",
       "      <td>boostcamp-sts-v1-train-360</td>\n",
       "      <td>petition-rtt</td>\n",
       "      <td>저희 같은 판매 영업직도 쉬게 해주세요</td>\n",
       "      <td>우리 같은 영업사원은 잠시 쉬도록 하세요.</td>\n",
       "      <td>2.5</td>\n",
       "      <td>1.0</td>\n",
       "    </tr>\n",
       "    <tr>\n",
       "      <th>1324</th>\n",
       "      <td>boostcamp-sts-v1-train-1324</td>\n",
       "      <td>slack-sampled</td>\n",
       "      <td>쾌청한 날씨만큼 좋은 한주의 시작되길 바라면서 #하우아유</td>\n",
       "      <td>오늘도 좋은 하루 보내고 계신가요! 하우아유</td>\n",
       "      <td>2.5</td>\n",
       "      <td>1.0</td>\n",
       "    </tr>\n",
       "    <tr>\n",
       "      <th>1449</th>\n",
       "      <td>boostcamp-sts-v1-train-1449</td>\n",
       "      <td>petition-sampled</td>\n",
       "      <td>청소년법 폐기 건의 드립니다.</td>\n",
       "      <td>청소년보호법 폐지와 학생자율화 폐지 건의합니다.</td>\n",
       "      <td>2.5</td>\n",
       "      <td>1.0</td>\n",
       "    </tr>\n",
       "    <tr>\n",
       "      <th>1561</th>\n",
       "      <td>boostcamp-sts-v1-train-1561</td>\n",
       "      <td>petition-sampled</td>\n",
       "      <td>학자금대출받고 졸업 후 취업못해 신용불량자가 된 청년실업자의 채무를 탕감해 주세요.</td>\n",
       "      <td>한국장학재단학자금대출로 사회출발점부터 채무자가 되는 젊은 사람들을 위한 구제법안을 ...</td>\n",
       "      <td>2.5</td>\n",
       "      <td>1.0</td>\n",
       "    </tr>\n",
       "  </tbody>\n",
       "</table>\n",
       "</div>"
      ],
      "text/plain": [
       "                               id            source  \\\n",
       "137    boostcamp-sts-v1-train-137         slack-rtt   \n",
       "360    boostcamp-sts-v1-train-360      petition-rtt   \n",
       "1324  boostcamp-sts-v1-train-1324     slack-sampled   \n",
       "1449  boostcamp-sts-v1-train-1449  petition-sampled   \n",
       "1561  boostcamp-sts-v1-train-1561  petition-sampled   \n",
       "\n",
       "                                          sentence_1  \\\n",
       "137                                 평화로 어딘가일 경우, 한수위   \n",
       "360                            저희 같은 판매 영업직도 쉬게 해주세요   \n",
       "1324                 쾌청한 날씨만큼 좋은 한주의 시작되길 바라면서 #하우아유   \n",
       "1449                                청소년법 폐기 건의 드립니다.   \n",
       "1561  학자금대출받고 졸업 후 취업못해 신용불량자가 된 청년실업자의 채무를 탕감해 주세요.   \n",
       "\n",
       "                                             sentence_2  label  binary-label  \n",
       "137                                        평화로운 곳이라면 최고    2.5           1.0  \n",
       "360                             우리 같은 영업사원은 잠시 쉬도록 하세요.    2.5           1.0  \n",
       "1324                           오늘도 좋은 하루 보내고 계신가요! 하우아유    2.5           1.0  \n",
       "1449                         청소년보호법 폐지와 학생자율화 폐지 건의합니다.    2.5           1.0  \n",
       "1561  한국장학재단학자금대출로 사회출발점부터 채무자가 되는 젊은 사람들을 위한 구제법안을 ...    2.5           1.0  "
      ]
     },
     "execution_count": 9,
     "metadata": {},
     "output_type": "execute_result"
    }
   ],
   "source": [
    "train_df[(train_df['label'] == 2.5)].head()"
   ]
  },
  {
   "cell_type": "code",
   "execution_count": 10,
   "id": "607bd117",
   "metadata": {},
   "outputs": [
    {
     "data": {
      "text/html": [
       "<div>\n",
       "<style scoped>\n",
       "    .dataframe tbody tr th:only-of-type {\n",
       "        vertical-align: middle;\n",
       "    }\n",
       "\n",
       "    .dataframe tbody tr th {\n",
       "        vertical-align: top;\n",
       "    }\n",
       "\n",
       "    .dataframe thead th {\n",
       "        text-align: right;\n",
       "    }\n",
       "</style>\n",
       "<table border=\"1\" class=\"dataframe\">\n",
       "  <thead>\n",
       "    <tr style=\"text-align: right;\">\n",
       "      <th></th>\n",
       "      <th>id</th>\n",
       "      <th>source</th>\n",
       "      <th>sentence_1</th>\n",
       "      <th>sentence_2</th>\n",
       "      <th>label</th>\n",
       "      <th>binary-label</th>\n",
       "    </tr>\n",
       "  </thead>\n",
       "  <tbody>\n",
       "    <tr>\n",
       "      <th>1</th>\n",
       "      <td>boostcamp-sts-v1-train-001</td>\n",
       "      <td>slack-rtt</td>\n",
       "      <td>앗 제가 접근권한이 없다고 뜹니다;;</td>\n",
       "      <td>오, 액세스 권한이 없다고 합니다.</td>\n",
       "      <td>4.2</td>\n",
       "      <td>1.0</td>\n",
       "    </tr>\n",
       "    <tr>\n",
       "      <th>3</th>\n",
       "      <td>boostcamp-sts-v1-train-003</td>\n",
       "      <td>slack-sampled</td>\n",
       "      <td>입사후 처음 대면으로 만나 반가웠습니다.</td>\n",
       "      <td>화상으로만 보다가 리얼로 만나니 정말 반가웠습니다.</td>\n",
       "      <td>3.0</td>\n",
       "      <td>1.0</td>\n",
       "    </tr>\n",
       "    <tr>\n",
       "      <th>5</th>\n",
       "      <td>boostcamp-sts-v1-train-005</td>\n",
       "      <td>nsmc-rtt</td>\n",
       "      <td>오마이가뜨지져스크롸이스트휏</td>\n",
       "      <td>오 마이 갓 지저스 스크론 이스트 팬</td>\n",
       "      <td>2.6</td>\n",
       "      <td>1.0</td>\n",
       "    </tr>\n",
       "    <tr>\n",
       "      <th>6</th>\n",
       "      <td>boostcamp-sts-v1-train-006</td>\n",
       "      <td>slack-rtt</td>\n",
       "      <td>전 암만 찍어도 까만 하늘.. ㅠㅠ</td>\n",
       "      <td>암만 찍어도 하늘은 까맣다.. ㅠㅠ</td>\n",
       "      <td>3.6</td>\n",
       "      <td>1.0</td>\n",
       "    </tr>\n",
       "    <tr>\n",
       "      <th>9</th>\n",
       "      <td>boostcamp-sts-v1-train-009</td>\n",
       "      <td>petition-sampled</td>\n",
       "      <td>크림하우스 환불조치해주세요.</td>\n",
       "      <td>크림하우스 환불조치할 수 있도록해주세여</td>\n",
       "      <td>4.2</td>\n",
       "      <td>1.0</td>\n",
       "    </tr>\n",
       "    <tr>\n",
       "      <th>...</th>\n",
       "      <td>...</td>\n",
       "      <td>...</td>\n",
       "      <td>...</td>\n",
       "      <td>...</td>\n",
       "      <td>...</td>\n",
       "      <td>...</td>\n",
       "    </tr>\n",
       "    <tr>\n",
       "      <th>9310</th>\n",
       "      <td>boostcamp-sts-v1-train-9310</td>\n",
       "      <td>petition-sampled</td>\n",
       "      <td>음주운전 처벌 강화</td>\n",
       "      <td>음주운전 처벌 강화해주세요</td>\n",
       "      <td>4.0</td>\n",
       "      <td>1.0</td>\n",
       "    </tr>\n",
       "    <tr>\n",
       "      <th>9314</th>\n",
       "      <td>boostcamp-sts-v1-train-9314</td>\n",
       "      <td>petition-sampled</td>\n",
       "      <td>박상기 현 법무부 장관 해임</td>\n",
       "      <td>박상기 법무장관 해임 바랍니다</td>\n",
       "      <td>3.8</td>\n",
       "      <td>1.0</td>\n",
       "    </tr>\n",
       "    <tr>\n",
       "      <th>9318</th>\n",
       "      <td>boostcamp-sts-v1-train-9318</td>\n",
       "      <td>petition-rtt</td>\n",
       "      <td>워마드 회원에 대해 테러방지법 적용을 검토해주세요.</td>\n",
       "      <td>Warmad 회원에 대한 테러 방지법 적용을 검토하십시오.</td>\n",
       "      <td>4.4</td>\n",
       "      <td>1.0</td>\n",
       "    </tr>\n",
       "    <tr>\n",
       "      <th>9320</th>\n",
       "      <td>boostcamp-sts-v1-train-9320</td>\n",
       "      <td>petition-sampled</td>\n",
       "      <td>여성가족부의 폐지를 원합니드</td>\n",
       "      <td>여성가족부 폐지를 청원 합니다.</td>\n",
       "      <td>4.2</td>\n",
       "      <td>1.0</td>\n",
       "    </tr>\n",
       "    <tr>\n",
       "      <th>9322</th>\n",
       "      <td>boostcamp-sts-v1-train-9322</td>\n",
       "      <td>slack-sampled</td>\n",
       "      <td>오늘 못한 점심은 다음에 다시 츄라이 하기로 해요!!</td>\n",
       "      <td>오늘 못먹은 밥은 꼭 담에 먹기로 하고요!!</td>\n",
       "      <td>3.2</td>\n",
       "      <td>1.0</td>\n",
       "    </tr>\n",
       "  </tbody>\n",
       "</table>\n",
       "<p>3632 rows × 6 columns</p>\n",
       "</div>"
      ],
      "text/plain": [
       "                               id            source  \\\n",
       "1      boostcamp-sts-v1-train-001         slack-rtt   \n",
       "3      boostcamp-sts-v1-train-003     slack-sampled   \n",
       "5      boostcamp-sts-v1-train-005          nsmc-rtt   \n",
       "6      boostcamp-sts-v1-train-006         slack-rtt   \n",
       "9      boostcamp-sts-v1-train-009  petition-sampled   \n",
       "...                           ...               ...   \n",
       "9310  boostcamp-sts-v1-train-9310  petition-sampled   \n",
       "9314  boostcamp-sts-v1-train-9314  petition-sampled   \n",
       "9318  boostcamp-sts-v1-train-9318      petition-rtt   \n",
       "9320  boostcamp-sts-v1-train-9320  petition-sampled   \n",
       "9322  boostcamp-sts-v1-train-9322     slack-sampled   \n",
       "\n",
       "                         sentence_1                        sentence_2  label  \\\n",
       "1              앗 제가 접근권한이 없다고 뜹니다;;               오, 액세스 권한이 없다고 합니다.    4.2   \n",
       "3            입사후 처음 대면으로 만나 반가웠습니다.      화상으로만 보다가 리얼로 만나니 정말 반가웠습니다.    3.0   \n",
       "5                    오마이가뜨지져스크롸이스트휏              오 마이 갓 지저스 스크론 이스트 팬    2.6   \n",
       "6               전 암만 찍어도 까만 하늘.. ㅠㅠ               암만 찍어도 하늘은 까맣다.. ㅠㅠ    3.6   \n",
       "9                   크림하우스 환불조치해주세요.             크림하우스 환불조치할 수 있도록해주세여    4.2   \n",
       "...                             ...                               ...    ...   \n",
       "9310                     음주운전 처벌 강화                    음주운전 처벌 강화해주세요    4.0   \n",
       "9314                박상기 현 법무부 장관 해임                  박상기 법무장관 해임 바랍니다    3.8   \n",
       "9318   워마드 회원에 대해 테러방지법 적용을 검토해주세요.  Warmad 회원에 대한 테러 방지법 적용을 검토하십시오.    4.4   \n",
       "9320                여성가족부의 폐지를 원합니드                 여성가족부 폐지를 청원 합니다.    4.2   \n",
       "9322  오늘 못한 점심은 다음에 다시 츄라이 하기로 해요!!          오늘 못먹은 밥은 꼭 담에 먹기로 하고요!!    3.2   \n",
       "\n",
       "      binary-label  \n",
       "1              1.0  \n",
       "3              1.0  \n",
       "5              1.0  \n",
       "6              1.0  \n",
       "9              1.0  \n",
       "...            ...  \n",
       "9310           1.0  \n",
       "9314           1.0  \n",
       "9318           1.0  \n",
       "9320           1.0  \n",
       "9322           1.0  \n",
       "\n",
       "[3632 rows x 6 columns]"
      ]
     },
     "execution_count": 10,
     "metadata": {},
     "output_type": "execute_result"
    }
   ],
   "source": [
    "train_df[(train_df['label'] >= 2.5)]"
   ]
  },
  {
   "cell_type": "code",
   "execution_count": 11,
   "id": "f46cea62",
   "metadata": {},
   "outputs": [
    {
     "data": {
      "text/plain": [
       "petition-sampled    2352\n",
       "nsmc-sampled        2296\n",
       "slack-sampled       2024\n",
       "slack-rtt           1047\n",
       "petition-rtt         817\n",
       "nsmc-rtt             788\n",
       "Name: source, dtype: int64"
      ]
     },
     "execution_count": 11,
     "metadata": {},
     "output_type": "execute_result"
    }
   ],
   "source": [
    "train_df['source'].value_counts()"
   ]
  },
  {
   "cell_type": "code",
   "execution_count": 12,
   "id": "07c9a05d",
   "metadata": {},
   "outputs": [
    {
     "data": {
      "image/png": "[encoded data removed]",
      "text/plain": [
       "<Figure size 640x480 with 1 Axes>"
      ]
     },
     "metadata": {},
     "output_type": "display_data"
    },
    {
     "data": {
      "text/plain": [
       "<Figure size 100x200 with 0 Axes>"
      ]
     },
     "metadata": {},
     "output_type": "display_data"
    }
   ],
   "source": [
    "sns.histplot(data=train_df, x=\"label\")\n",
    "\n",
    "plt.figure(figsize=(1, 2))\n",
    "plt.show()"
   ]
  },
  {
   "cell_type": "code",
   "execution_count": 13,
   "id": "535bad8d",
   "metadata": {},
   "outputs": [
    {
     "data": {
      "text/plain": [
       "id              boostcamp-sts-v1-train-004\n",
       "source                       slack-sampled\n",
       "sentence_1                      뿌듯뿌듯 하네요!!\n",
       "sentence_2           꼬옥 실제로 한번 뵈어요 뿌뿌뿌~!~!\n",
       "label                                  0.0\n",
       "binary-label                           0.0\n",
       "Name: 4, dtype: object"
      ]
     },
     "execution_count": 13,
     "metadata": {},
     "output_type": "execute_result"
    }
   ],
   "source": [
    "train_df.iloc[4]"
   ]
  },
  {
   "cell_type": "code",
   "execution_count": 14,
   "id": "1bcd547e",
   "metadata": {},
   "outputs": [
    {
     "data": {
      "text/plain": [
       "id                boostcamp-sts-v1-train-003\n",
       "source                         slack-sampled\n",
       "sentence_1            입사후 처음 대면으로 만나 반가웠습니다.\n",
       "sentence_2      화상으로만 보다가 리얼로 만나니 정말 반가웠습니다.\n",
       "label                                    3.0\n",
       "binary-label                             1.0\n",
       "Name: 3, dtype: object"
      ]
     },
     "execution_count": 14,
     "metadata": {},
     "output_type": "execute_result"
    }
   ],
   "source": [
    "train_df.iloc[3]"
   ]
  },
  {
   "cell_type": "code",
   "execution_count": 15,
   "id": "b0739b47",
   "metadata": {},
   "outputs": [
    {
     "data": {
      "text/plain": [
       "id                                boostcamp-sts-v1-train-9319\n",
       "source                                       petition-sampled\n",
       "sentence_1               교원능력개발평가에서 교원이 보호받을 수 있는 장치를 마련해야합니다\n",
       "sentence_2      본인이 납부한 국민연금 금액을 기준으로 대출을 받을 수 있는 제도를 마련해 주세요\n",
       "label                                                     0.2\n",
       "binary-label                                              0.0\n",
       "Name: 9319, dtype: object"
      ]
     },
     "execution_count": 15,
     "metadata": {},
     "output_type": "execute_result"
    }
   ],
   "source": [
    "train_df.iloc[9319]"
   ]
  },
  {
   "cell_type": "code",
   "execution_count": 16,
   "id": "cb0b063e",
   "metadata": {},
   "outputs": [
    {
     "data": {
      "text/plain": [
       "0       2.0~2.9\n",
       "1       4.0~4.9\n",
       "2       2.0~2.9\n",
       "3       3.0~3.9\n",
       "4           0.0\n",
       "         ...   \n",
       "9319    0.1~0.9\n",
       "9320    4.0~4.9\n",
       "9321    0.1~0.9\n",
       "9322    3.0~3.9\n",
       "9323    1.0~1.9\n",
       "Name: label-binning, Length: 9324, dtype: category\n",
       "Categories (7, object): ['0.0' < '0.1~0.9' < '1.0~1.9' < '2.0~2.9' < '3.0~3.9' < '4.0~4.9' < '5.0']"
      ]
     },
     "execution_count": 16,
     "metadata": {},
     "output_type": "execute_result"
    }
   ],
   "source": [
    "bins = [-0.1, 0.0, 0.9, 1.9, 2.9, 3.9, 4.9, 5]\n",
    "df_label_bins = pd.cut(train_df['label'], bins, labels=['0.0','0.1~0.9', '1.0~1.9', '2.0~2.9', \n",
    "                                                        '3.0~3.9', '4.0~4.9', '5.0'])\n",
    "\n",
    "# train_df 복사\n",
    "new_train_df = train_df.copy()\n",
    "new_train_df['label-binning'] = df_label_bins\n",
    "new_train_df['label-binning']"
   ]
  },
  {
   "cell_type": "markdown",
   "id": "918cb76d",
   "metadata": {},
   "source": [
    "5 이상이 적어보이지만 사실 '5 group'은 딱 5.0 밖에 없기 때문에 <br>\n",
    "Data augmentation을 하는 것이 맞는지 고민중...\n",
    "\n",
    "'2 group', '3 group'은 augmenation을 진행해도 좋을듯!"
   ]
  },
  {
   "cell_type": "code",
   "execution_count": 17,
   "id": "40409f6a",
   "metadata": {},
   "outputs": [
    {
     "data": {
      "text/plain": [
       "0.0        2119\n",
       "0.1~0.9    1592\n",
       "1.0~1.9    1368\n",
       "2.0~2.9    1137\n",
       "3.0~3.9    1715\n",
       "4.0~4.9    1302\n",
       "5.0          91\n",
       "Name: label-binning, dtype: int64"
      ]
     },
     "execution_count": 17,
     "metadata": {},
     "output_type": "execute_result"
    }
   ],
   "source": [
    "new_train_df['label-binning'].value_counts().sort_index()"
   ]
  },
  {
   "cell_type": "markdown",
   "id": "1dd8de8e",
   "metadata": {},
   "source": [
    "파이차트  (퍼센트 자료 만들기) <br>\n",
    "\n",
    "focal loss <br>\n",
    "    https://pytorch.org/docs/stable/generated/torch.nn.NLLLoss.html\n"
   ]
  },
  {
   "cell_type": "code",
   "execution_count": 24,
   "id": "8e8060cd",
   "metadata": {},
   "outputs": [
    {
     "name": "stdout",
     "output_type": "stream",
     "text": [
      "5.0 91\n",
      "4.9 0\n",
      "4.8 59\n",
      "4.7 0\n",
      "4.6 81\n",
      "4.5 11\n",
      "4.4 209\n",
      "4.3 0\n",
      "4.2 426\n",
      "4.1 0\n",
      "4.0 516\n"
     ]
    }
   ],
   "source": [
    "value_list = [5.0, 4.9, 4.8, 4.7, 4.6, 4.5, 4.4, 4.3, 4.2, 4.1, 4.0]\n",
    "\n",
    "for value in value_list :\n",
    "    tmp = new_train_df[new_train_df['label']==value]\n",
    "    print(value, len(tmp))"
   ]
  },
  {
   "cell_type": "markdown",
   "id": "cc300078",
   "metadata": {},
   "source": [
    "<a id=\"6\"></a>\n",
    "## 📊 Data Visualization"
   ]
  },
  {
   "cell_type": "code",
   "execution_count": 23,
   "id": "a22c0d9d",
   "metadata": {},
   "outputs": [
    {
     "data": {
      "image/png": "[encoded data removed]",
      "text/plain": [
       "<Figure size 640x480 with 1 Axes>"
      ]
     },
     "metadata": {},
     "output_type": "display_data"
    },
    {
     "data": {
      "text/plain": [
       "<Figure size 400x600 with 0 Axes>"
      ]
     },
     "metadata": {},
     "output_type": "display_data"
    }
   ],
   "source": [
    "sns.histplot(data=new_train_df, y=\"label-binning\", shrink=.75)\n",
    "\n",
    "plt.figure(figsize=(4, 6))\n",
    "plt.show()"
   ]
  },
  {
   "cell_type": "code",
   "execution_count": null,
   "id": "c7b29089",
   "metadata": {},
   "outputs": [],
   "source": []
  },
  {
   "cell_type": "code",
   "execution_count": null,
   "id": "3e181148",
   "metadata": {},
   "outputs": [],
   "source": []
  },
  {
   "cell_type": "code",
   "execution_count": null,
   "id": "eea090fe",
   "metadata": {},
   "outputs": [],
   "source": []
  },
  {
   "cell_type": "markdown",
   "id": "790fc138",
   "metadata": {},
   "source": [
    "## 📝 Reference\n",
    "\n",
    "Reference Notebook.\n",
    "\n",
    "* https://www.kaggle.com/code/startupsci/titanic-data-science-solutions\n",
    "* https://www.kaggle.com/code/odins0n/spaceship-titanic-eda-27-different-models\n",
    "* https://www.kaggle.com/code/tangelus/english-language-learning-vectorization-lgbm\n",
    "\n",
    "Reference Site.\n",
    "* https://www.data-to-viz.com/"
   ]
  }
 ],
 "metadata": {
  "hide_input": false,
  "kernelspec": {
   "display_name": "Python 3 (ipykernel)",
   "language": "python",
   "name": "python3"
  },
  "language_info": {
   "codemirror_mode": {
    "name": "ipython",
    "version": 3
   },
   "file_extension": ".py",
   "mimetype": "text/x-python",
   "name": "python",
   "nbconvert_exporter": "python",
   "pygments_lexer": "ipython3",
   "version": "3.8.13"
  },
  "toc": {
   "base_numbering": 1,
   "nav_menu": {},
   "number_sections": true,
   "sideBar": true,
   "skip_h1_title": false,
   "title_cell": "Table of Contents",
   "title_sidebar": "Contents",
   "toc_cell": false,
   "toc_position": {},
   "toc_section_display": true,
   "toc_window_display": false
  }
 },
 "nbformat": 4,
 "nbformat_minor": 5
}
