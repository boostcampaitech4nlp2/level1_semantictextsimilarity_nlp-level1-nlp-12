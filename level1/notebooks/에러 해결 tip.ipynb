{
 "cells": [
  {
   "cell_type": "markdown",
   "id": "5ffdd594-f3de-4a15-8668-bffa4780a2d6",
   "metadata": {},
   "source": [
    "RuntimeError: CUDA out of memory.\n",
    "\n",
    "=> 원인: batch size가 너무 크거나, 코드 상에서 메모리 누수가 발생했기 때문\n",
    "해결: batch size 크기를 줄여가면서 gpu 캐시를 비워주는 아래 코드를 실행"
   ]
  },
  {
   "cell_type": "code",
   "execution_count": null,
   "id": "ab9da80f-e159-4b1d-8688-e4c438af83c8",
   "metadata": {},
   "outputs": [],
   "source": [
    "import gc\n",
    "import torch\n",
    "\n",
    "gc.collect()\n",
    "torch.cuda.empty_cache()"
   ]
  },
  {
   "cell_type": "markdown",
   "id": "8387da58-7280-4a5a-ac06-4e79acd91100",
   "metadata": {},
   "source": [
    "\n",
    "\n",
    "\n",
    "\n",
    "\n",
    "\n",
    "ImportError: IProgress not found\n",
    "\n",
    "=> 원인: ipywidgets 을 업그레이드 하라는 것"
   ]
  },
  {
   "cell_type": "code",
   "execution_count": null,
   "id": "96bc4d8b-833d-4a39-b0b4-991be27688ad",
   "metadata": {},
   "outputs": [],
   "source": [
    "pip install ipywidgets\n",
    "\n",
    "jupyter nbextension enable --py widgetsnbextension"
   ]
  },
  {
   "cell_type": "markdown",
   "id": "77dc1ae1-201a-43b5-88cb-864b85b409fc",
   "metadata": {},
   "source": [
    "\n",
    "\n",
    "\n",
    "\n",
    "\n",
    "\n",
    "FutureWarning: The frame.append method is deprecated and will be removed from pandas in a future version. Use pandas.concat instead."
   ]
  },
  {
   "cell_type": "code",
   "execution_count": null,
   "id": "c1ecec5c-2db2-4617-9fbe-4001a7197c9e",
   "metadata": {},
   "outputs": [],
   "source": [
    "df = df.append(more) => df = pd.concat([df, more])"
   ]
  },
  {
   "cell_type": "code",
   "execution_count": null,
   "id": "80f5221e-5e9f-4737-ad2f-a902c1098d9f",
   "metadata": {},
   "outputs": [],
   "source": [
    "\n",
    "\n",
    "\n",
    "\n",
    "한글 글꼴 깨짐 문제"
   ]
  }
 ],
 "metadata": {
  "kernelspec": {
   "display_name": "Python 3 (ipykernel)",
   "language": "python",
   "name": "python3"
  },
  "language_info": {
   "codemirror_mode": {
    "name": "ipython",
    "version": 3
   },
   "file_extension": ".py",
   "mimetype": "text/x-python",
   "name": "python",
   "nbconvert_exporter": "python",
   "pygments_lexer": "ipython3",
   "version": "3.8.5"
  }
 },
 "nbformat": 4,
 "nbformat_minor": 5
}
