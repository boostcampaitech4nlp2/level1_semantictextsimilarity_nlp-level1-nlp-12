{
 "cells": [
  {
   "cell_type": "markdown",
   "id": "6915a259-60ee-4862-ad81-404f1a59484f",
   "metadata": {},
   "source": [
    "### Back Translation이란\n",
    "\n",
    "process of re-translating content from the target language back to its source language in literal terms\n"
   ]
  }
 ],
 "metadata": {
  "kernelspec": {
   "display_name": "Python 3 (ipykernel)",
   "language": "python",
   "name": "python3"
  },
  "language_info": {
   "codemirror_mode": {
    "name": "ipython",
    "version": 3
   },
   "file_extension": ".py",
   "mimetype": "text/x-python",
   "name": "python",
   "nbconvert_exporter": "python",
   "pygments_lexer": "ipython3",
   "version": "3.8.5"
  }
 },
 "nbformat": 4,
 "nbformat_minor": 5
}
