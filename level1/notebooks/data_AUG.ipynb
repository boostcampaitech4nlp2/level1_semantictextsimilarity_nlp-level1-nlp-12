{
 "cells": [
  {
   "cell_type": "code",
   "execution_count": 1,
   "id": "fb365994-9c68-40db-9a5c-086fcdbc5157",
   "metadata": {},
   "outputs": [],
   "source": [
    "#!pip install matplotlib\n",
    "#!pip install koeda"
   ]
  },
  {
   "cell_type": "code",
   "execution_count": 2,
   "id": "3c5d1c87",
   "metadata": {},
   "outputs": [
    {
     "name": "stderr",
     "output_type": "stream",
     "text": [
      "/opt/conda/lib/python3.8/site-packages/tqdm/auto.py:22: TqdmWarning: IProgress not found. Please update jupyter and ipywidgets. See https://ipywidgets.readthedocs.io/en/stable/user_install.html\n",
      "  from .autonotebook import tqdm as notebook_tqdm\n"
     ]
    }
   ],
   "source": [
    "import json\n",
    "\n",
    "import pandas as pd\n",
    "import numpy as np\n",
    "from matplotlib import pyplot as plt\n",
    "\n",
    "from tqdm import tqdm\n",
    "from transformers import AutoTokenizer"
   ]
  },
  {
   "cell_type": "code",
   "execution_count": 3,
   "id": "93847cc5",
   "metadata": {},
   "outputs": [],
   "source": [
    "train = pd.read_csv(\"train.csv\")"
   ]
  },
  {
   "cell_type": "markdown",
   "id": "76808284",
   "metadata": {},
   "source": [
    "EDA: Easy Data Augmentation라는 논문에서는 데이터를 다음의 네 가지 기법을 통해 자연어 데이터를 증강하고자 합니다.\n",
    "\n",
    "* 유의어로 교체(Synonym Replacement, SR): 문장에서 랜덤으로 stop words가 아닌 n 개의 단어들을 선택해 임의로 선택한 동의어들 중 하나로 바꾸는 기법.\n",
    "\n",
    "* 랜덤 삽입(Random Insertion, RI): 문장 내에서 stop word를 제외한 나머지 단어들 중에서, 랜덤으로 선택한 단어의 동의어를 임의로 정한다. 그리고 동의어를 문장 내 임의의 자리에 넣는걸 n번 반복한다.\n",
    "\n",
    "* 랜덤 교체(Random Swap, RS): 무작위로 문장 내에서 두 단어를 선택하고 위치를 바꾼다. 이것도 n번 반복\n",
    "\n",
    "* 랜덤 삭제(Random Deletion, RD): 확률 p를 통해 문장 내에 있는 각 단어들을 랜덤하게 삭제한다."
   ]
  },
  {
   "cell_type": "markdown",
   "id": "78c47f99-94e3-4faa-9581-fc50d1db7d8e",
   "metadata": {},
   "source": [
    "데이터셋이 적다는 가정에서, 데이터셋이 500개일 때 EDA를 포함하면 평균적으로 3%의 성능이 증가함을 확인할 수 있었습니다. full set일 때도 EDA를 사용하면 평균적으로 성능의 향상이 있었습니다. \n",
    "하지만 우리가 사용할 BERT 등의선학습 모델은 거대 데이터셋으로 선학습되었기에 데이터셋의 개선 효과를 못 볼 수도 있다고 합니다"
   ]
  },
  {
   "cell_type": "code",
   "execution_count": 4,
   "id": "778561b6-ec63-412a-a299-e5aed971421f",
   "metadata": {},
   "outputs": [
    {
     "name": "stdout",
     "output_type": "stream",
     "text": [
      "Requirement already satisfied: konlpy in /opt/conda/lib/python3.8/site-packages (0.6.0)\n",
      "Requirement already satisfied: numpy>=1.6 in /opt/conda/lib/python3.8/site-packages (from konlpy) (1.23.4)\n",
      "Requirement already satisfied: lxml>=4.1.0 in /opt/conda/lib/python3.8/site-packages (from konlpy) (4.9.1)\n",
      "Requirement already satisfied: JPype1>=0.7.0 in /opt/conda/lib/python3.8/site-packages (from konlpy) (1.4.0)\n"
     ]
    }
   ],
   "source": [
    "!pip install konlpy"
   ]
  },
  {
   "cell_type": "code",
   "execution_count": 5,
   "id": "494077ea",
   "metadata": {},
   "outputs": [
    {
     "ename": "JVMNotFoundException",
     "evalue": "No JVM shared library file (libjvm.so) found. Try setting up the JAVA_HOME environment variable properly.",
     "output_type": "error",
     "traceback": [
      "\u001b[0;31m---------------------------------------------------------------------------\u001b[0m",
      "\u001b[0;31mJVMNotFoundException\u001b[0m                      Traceback (most recent call last)",
      "Cell \u001b[0;32mIn [5], line 4\u001b[0m\n\u001b[1;32m      1\u001b[0m \u001b[38;5;66;03m# EDA 사용방법\u001b[39;00m\n\u001b[1;32m      2\u001b[0m \u001b[38;5;28;01mfrom\u001b[39;00m \u001b[38;5;21;01mkoeda\u001b[39;00m \u001b[38;5;28;01mimport\u001b[39;00m EDA\n\u001b[0;32m----> 4\u001b[0m eda \u001b[38;5;241m=\u001b[39m \u001b[43mEDA\u001b[49m\u001b[43m(\u001b[49m\n\u001b[1;32m      5\u001b[0m \u001b[43m    \u001b[49m\u001b[43mmorpheme_analyzer\u001b[49m\u001b[38;5;241;43m=\u001b[39;49m\u001b[38;5;124;43m\"\u001b[39;49m\u001b[38;5;124;43mOkt\u001b[39;49m\u001b[38;5;124;43m\"\u001b[39;49m\u001b[43m,\u001b[49m\u001b[43m \u001b[49m\u001b[43malpha_sr\u001b[49m\u001b[38;5;241;43m=\u001b[39;49m\u001b[38;5;241;43m0.3\u001b[39;49m\u001b[43m,\u001b[49m\u001b[43m \u001b[49m\u001b[43malpha_ri\u001b[49m\u001b[38;5;241;43m=\u001b[39;49m\u001b[38;5;241;43m0.3\u001b[39;49m\u001b[43m,\u001b[49m\u001b[43m \u001b[49m\u001b[43malpha_rs\u001b[49m\u001b[38;5;241;43m=\u001b[39;49m\u001b[38;5;241;43m0.2\u001b[39;49m\u001b[43m,\u001b[49m\u001b[43m \u001b[49m\u001b[43mprob_rd\u001b[49m\u001b[38;5;241;43m=\u001b[39;49m\u001b[38;5;241;43m0.1\u001b[39;49m\n\u001b[1;32m      6\u001b[0m \u001b[43m)\u001b[49m\n\u001b[1;32m      8\u001b[0m text \u001b[38;5;241m=\u001b[39m \u001b[38;5;124m\"\u001b[39m\u001b[38;5;124m아버지가 방에 들어가신다\u001b[39m\u001b[38;5;124m\"\u001b[39m\n\u001b[1;32m     10\u001b[0m result \u001b[38;5;241m=\u001b[39m eda(text)\n",
      "File \u001b[0;32m/opt/conda/lib/python3.8/site-packages/koeda/eda.py:22\u001b[0m, in \u001b[0;36mEasyDataAugmentation.__init__\u001b[0;34m(self, morpheme_analyzer, alpha_sr, alpha_ri, alpha_rs, prob_rd)\u001b[0m\n\u001b[1;32m     20\u001b[0m     \u001b[38;5;28mself\u001b[39m\u001b[38;5;241m.\u001b[39mmorpheme_analyzer \u001b[38;5;241m=\u001b[39m Okt()\n\u001b[1;32m     21\u001b[0m \u001b[38;5;28;01melif\u001b[39;00m morpheme_analyzer \u001b[38;5;129;01min\u001b[39;00m [\u001b[38;5;124m\"\u001b[39m\u001b[38;5;124mOkt\u001b[39m\u001b[38;5;124m\"\u001b[39m, \u001b[38;5;124m\"\u001b[39m\u001b[38;5;124mKkma\u001b[39m\u001b[38;5;124m\"\u001b[39m, \u001b[38;5;124m\"\u001b[39m\u001b[38;5;124mKomoran\u001b[39m\u001b[38;5;124m\"\u001b[39m, \u001b[38;5;124m\"\u001b[39m\u001b[38;5;124mMecab\u001b[39m\u001b[38;5;124m\"\u001b[39m, \u001b[38;5;124m\"\u001b[39m\u001b[38;5;124mHannanum\u001b[39m\u001b[38;5;124m\"\u001b[39m]:\n\u001b[0;32m---> 22\u001b[0m     \u001b[38;5;28mself\u001b[39m\u001b[38;5;241m.\u001b[39mmorpheme_analyzer \u001b[38;5;241m=\u001b[39m \u001b[38;5;28;43meval\u001b[39;49m\u001b[43m(\u001b[49m\u001b[43mmorpheme_analyzer\u001b[49m\u001b[43m)\u001b[49m\u001b[43m(\u001b[49m\u001b[43m)\u001b[49m\n\u001b[1;32m     23\u001b[0m \u001b[38;5;28;01melif\u001b[39;00m \u001b[38;5;28mhasattr\u001b[39m(morpheme_analyzer, \u001b[38;5;124m\"\u001b[39m\u001b[38;5;124mmorphs\u001b[39m\u001b[38;5;124m\"\u001b[39m):\n\u001b[1;32m     24\u001b[0m     \u001b[38;5;28mself\u001b[39m\u001b[38;5;241m.\u001b[39mmorpheme_analyzer \u001b[38;5;241m=\u001b[39m morpheme_analyzer\n",
      "File \u001b[0;32m/opt/conda/lib/python3.8/site-packages/konlpy/tag/_okt.py:51\u001b[0m, in \u001b[0;36mOkt.__init__\u001b[0;34m(self, jvmpath, max_heap_size)\u001b[0m\n\u001b[1;32m     49\u001b[0m \u001b[38;5;28;01mdef\u001b[39;00m \u001b[38;5;21m__init__\u001b[39m(\u001b[38;5;28mself\u001b[39m, jvmpath\u001b[38;5;241m=\u001b[39m\u001b[38;5;28;01mNone\u001b[39;00m, max_heap_size\u001b[38;5;241m=\u001b[39m\u001b[38;5;241m1024\u001b[39m):\n\u001b[1;32m     50\u001b[0m     \u001b[38;5;28;01mif\u001b[39;00m \u001b[38;5;129;01mnot\u001b[39;00m jpype\u001b[38;5;241m.\u001b[39misJVMStarted():\n\u001b[0;32m---> 51\u001b[0m         \u001b[43mjvm\u001b[49m\u001b[38;5;241;43m.\u001b[39;49m\u001b[43minit_jvm\u001b[49m\u001b[43m(\u001b[49m\u001b[43mjvmpath\u001b[49m\u001b[43m,\u001b[49m\u001b[43m \u001b[49m\u001b[43mmax_heap_size\u001b[49m\u001b[43m)\u001b[49m\n\u001b[1;32m     53\u001b[0m     oktJavaPackage \u001b[38;5;241m=\u001b[39m jpype\u001b[38;5;241m.\u001b[39mJPackage(\u001b[38;5;124m'\u001b[39m\u001b[38;5;124mkr.lucypark.okt\u001b[39m\u001b[38;5;124m'\u001b[39m)\n\u001b[1;32m     54\u001b[0m     OktInterfaceJavaClass \u001b[38;5;241m=\u001b[39m oktJavaPackage\u001b[38;5;241m.\u001b[39mOktInterface\n",
      "File \u001b[0;32m/opt/conda/lib/python3.8/site-packages/konlpy/jvm.py:55\u001b[0m, in \u001b[0;36minit_jvm\u001b[0;34m(jvmpath, max_heap_size)\u001b[0m\n\u001b[1;32m     52\u001b[0m args \u001b[38;5;241m=\u001b[39m [javadir, os\u001b[38;5;241m.\u001b[39msep]\n\u001b[1;32m     53\u001b[0m classpath \u001b[38;5;241m=\u001b[39m [f\u001b[38;5;241m.\u001b[39mformat(\u001b[38;5;241m*\u001b[39margs) \u001b[38;5;28;01mfor\u001b[39;00m f \u001b[38;5;129;01min\u001b[39;00m folder_suffix]\n\u001b[0;32m---> 55\u001b[0m jvmpath \u001b[38;5;241m=\u001b[39m jvmpath \u001b[38;5;129;01mor\u001b[39;00m \u001b[43mjpype\u001b[49m\u001b[38;5;241;43m.\u001b[39;49m\u001b[43mgetDefaultJVMPath\u001b[49m\u001b[43m(\u001b[49m\u001b[43m)\u001b[49m\n\u001b[1;32m     57\u001b[0m \u001b[38;5;66;03m# NOTE: Temporary patch for Issue #76. Erase when possible.\u001b[39;00m\n\u001b[1;32m     58\u001b[0m \u001b[38;5;28;01mif\u001b[39;00m sys\u001b[38;5;241m.\u001b[39mplatform \u001b[38;5;241m==\u001b[39m \u001b[38;5;124m'\u001b[39m\u001b[38;5;124mdarwin\u001b[39m\u001b[38;5;124m'\u001b[39m\\\n\u001b[1;32m     59\u001b[0m         \u001b[38;5;129;01mand\u001b[39;00m jvmpath\u001b[38;5;241m.\u001b[39mfind(\u001b[38;5;124m'\u001b[39m\u001b[38;5;124m1.8.0\u001b[39m\u001b[38;5;124m'\u001b[39m) \u001b[38;5;241m>\u001b[39m \u001b[38;5;241m0\u001b[39m\\\n\u001b[1;32m     60\u001b[0m         \u001b[38;5;129;01mand\u001b[39;00m jvmpath\u001b[38;5;241m.\u001b[39mendswith(\u001b[38;5;124m'\u001b[39m\u001b[38;5;124mlibjvm.dylib\u001b[39m\u001b[38;5;124m'\u001b[39m):\n",
      "File \u001b[0;32m/opt/conda/lib/python3.8/site-packages/jpype/_jvmfinder.py:74\u001b[0m, in \u001b[0;36mgetDefaultJVMPath\u001b[0;34m()\u001b[0m\n\u001b[1;32m     72\u001b[0m \u001b[38;5;28;01melse\u001b[39;00m:\n\u001b[1;32m     73\u001b[0m     finder \u001b[38;5;241m=\u001b[39m LinuxJVMFinder()\n\u001b[0;32m---> 74\u001b[0m \u001b[38;5;28;01mreturn\u001b[39;00m \u001b[43mfinder\u001b[49m\u001b[38;5;241;43m.\u001b[39;49m\u001b[43mget_jvm_path\u001b[49m\u001b[43m(\u001b[49m\u001b[43m)\u001b[49m\n",
      "File \u001b[0;32m/opt/conda/lib/python3.8/site-packages/jpype/_jvmfinder.py:212\u001b[0m, in \u001b[0;36mJVMFinder.get_jvm_path\u001b[0;34m(self)\u001b[0m\n\u001b[1;32m    210\u001b[0m \u001b[38;5;28;01mif\u001b[39;00m jvm_notsupport_ext \u001b[38;5;129;01mis\u001b[39;00m \u001b[38;5;129;01mnot\u001b[39;00m \u001b[38;5;28;01mNone\u001b[39;00m:\n\u001b[1;32m    211\u001b[0m     \u001b[38;5;28;01mraise\u001b[39;00m jvm_notsupport_ext\n\u001b[0;32m--> 212\u001b[0m \u001b[38;5;28;01mraise\u001b[39;00m JVMNotFoundException(\u001b[38;5;124m\"\u001b[39m\u001b[38;5;124mNo JVM shared library file (\u001b[39m\u001b[38;5;132;01m{0}\u001b[39;00m\u001b[38;5;124m) \u001b[39m\u001b[38;5;124m\"\u001b[39m\n\u001b[1;32m    213\u001b[0m                            \u001b[38;5;124m\"\u001b[39m\u001b[38;5;124mfound. Try setting up the JAVA_HOME \u001b[39m\u001b[38;5;124m\"\u001b[39m\n\u001b[1;32m    214\u001b[0m                            \u001b[38;5;124m\"\u001b[39m\u001b[38;5;124menvironment variable properly.\u001b[39m\u001b[38;5;124m\"\u001b[39m\n\u001b[1;32m    215\u001b[0m                            \u001b[38;5;241m.\u001b[39mformat(\u001b[38;5;28mself\u001b[39m\u001b[38;5;241m.\u001b[39m_libfile))\n",
      "\u001b[0;31mJVMNotFoundException\u001b[0m: No JVM shared library file (libjvm.so) found. Try setting up the JAVA_HOME environment variable properly."
     ]
    }
   ],
   "source": [
    "# EDA 사용방법\n",
    "from koeda import EDA\n",
    "\n",
    "eda = EDA(\n",
    "    morpheme_analyzer=\"Okt\", alpha_sr=0.3, alpha_ri=0.3, alpha_rs=0.2, prob_rd=0.1\n",
    ")\n",
    "\n",
    "text = \"아버지가 방에 들어가신다\"\n",
    "\n",
    "result = eda(text)\n",
    "print(result)"
   ]
  },
  {
   "cell_type": "code",
   "execution_count": null,
   "id": "c1106b11",
   "metadata": {},
   "outputs": [],
   "source": [
    "# AEDA 사용방법\n",
    "from koeda import AEDA\n",
    "\n",
    "aeda = AEDA(\n",
    "    morpheme_analyzer=\"Okt\", punc_ratio=0.3, punctuations=[\".\", \",\", \"!\", \"?\", \";\", \":\"]\n",
    ")\n",
    "\n",
    "text = \"어머니가 집을 나가신다\"\n",
    "\n",
    "result = aeda(text)\n",
    "print(result)"
   ]
  },
  {
   "cell_type": "markdown",
   "id": "ca7eba15",
   "metadata": {},
   "source": [
    "sentence_1을 바꿀지, sentence_2를 바꿀지, sentence_1,2 모두 바꿀지? <br/>\n",
    "5점 경우는 2700개의 데이터를 추가로 만들고 싶다 <br/>\n",
    "문장은 사이클로 돌리고 sent 1,2,(1,2)는 random으로 선택하자"
   ]
  },
  {
   "cell_type": "code",
   "execution_count": null,
   "id": "dbeda6c6",
   "metadata": {},
   "outputs": [],
   "source": [
    "from koeda import AEDA\n",
    "import pandas as pd\n",
    "import numpy as np\n",
    "import copy\n",
    "\n",
    "\n",
    "def get_preprocessed_label(df):\n",
    "    \"\"\"_summary_\n",
    "\n",
    "    Args:\n",
    "        df (_type_): _description_\n",
    "\n",
    "    Returns:\n",
    "        _type_: _description_\n",
    "    \"\"\"\n",
    "    for i in range(len(df)):\n",
    "        df.loc[i, \"preprocessed_label\"] = round(df.loc[i, \"label\"])\n",
    "\n",
    "    return df\n",
    "\n",
    "\n",
    "def concat_AEDA_sent(df_label, aug_nums):\n",
    "    \"\"\"라벨 x만 있는 데이터프레임에 aug_nums 만큼 AEAD된 데이터를 추가\n",
    "\n",
    "    Args:\n",
    "        df_label (DataFrame): 라벨 x만 있는 데이터프레임\n",
    "        aug_nums (int): 증강하고자 하는 수\n",
    "    Returns:\n",
    "        AEDA가 추가된 라벨 x의 데이터프레임\n",
    "    \"\"\"\n",
    "    np.random.seed(12)\n",
    "    aug_idx = np.random.randint(0, 3, size=aug_nums)\n",
    "    dataset_idx = 0\n",
    "    aug_df_label = copy.deepcopy(df_label)\n",
    "\n",
    "    aeda = AEDA(\n",
    "        morpheme_analyzer=\"Okt\",\n",
    "        punc_ratio=0.3,\n",
    "        punctuations=[\".\", \",\", \"!\", \"?\", \";\", \":\"],\n",
    "    )\n",
    "\n",
    "    for i in range(aug_nums):\n",
    "        if dataset_idx >= len(df_label):\n",
    "            dataset_idx = 0\n",
    "\n",
    "        origin_id = df_label.iloc[dataset_idx][\"id\"]\n",
    "        origin_source = df_label.iloc[dataset_idx][\"source\"]\n",
    "        origin_sentence_1 = df_label.iloc[dataset_idx][\"sentence_1\"]\n",
    "        origin_sentence_2 = df_label.iloc[dataset_idx][\"sentence_2\"]\n",
    "        origin_label = df_label.iloc[dataset_idx][\"label\"]\n",
    "        origin_binarylabel = df_label.iloc[dataset_idx][\"binary-label\"]\n",
    "        origin_preprocessed_label = df_label.iloc[dataset_idx][\"preprocessed_label\"]\n",
    "\n",
    "        if aug_idx[i] == 0:  # sent_1만 aug\n",
    "            sent = aug_df_label.iloc[dataset_idx][\"sentence_1\"]\n",
    "            aug_sent = aeda(sent)\n",
    "            new_df = pd.DataFrame(\n",
    "                {\n",
    "                    \"id\": [origin_id],\n",
    "                    \"source\": [origin_source],\n",
    "                    \"sentence_1\": [aug_sent],\n",
    "                    \"sentence_2\": [origin_sentence_2],\n",
    "                    \"label\": [origin_label],\n",
    "                    \"binary-label\": [origin_binarylabel],\n",
    "                    \"preprocessed_label\": [origin_preprocessed_label],\n",
    "                }\n",
    "            )\n",
    "            aug_df_label = pd.concat([aug_df_label, new_df], ignore_index=True)\n",
    "\n",
    "        elif aug_idx[i] == 1:  # sent_2만 aug\n",
    "            sent = aug_df_label.iloc[dataset_idx][\"sentence_2\"]\n",
    "            aug_sent = aeda(sent)\n",
    "            new_df = pd.DataFrame(\n",
    "                {\n",
    "                    \"id\": [origin_id],\n",
    "                    \"source\": [origin_source],\n",
    "                    \"sentence_1\": [origin_sentence_1],\n",
    "                    \"sentence_2\": [aug_sent],\n",
    "                    \"label\": [origin_label],\n",
    "                    \"binary-label\": [origin_binarylabel],\n",
    "                    \"preprocessed_label\": [origin_preprocessed_label],\n",
    "                }\n",
    "            )\n",
    "            aug_df_label = pd.concat([aug_df_label, new_df], ignore_index=True)\n",
    "\n",
    "        else:  # sent_1과 2를 모두 aug\n",
    "            sent_1 = aug_df_label.iloc[dataset_idx][\"sentence_1\"]\n",
    "            sent_2 = aug_df_label.iloc[dataset_idx][\"sentence_2\"]\n",
    "            aug_sent_1 = aeda(sent_1)\n",
    "            aug_sent_2 = aeda(sent_2)\n",
    "            new_df = pd.DataFrame(\n",
    "                {\n",
    "                    \"id\": [origin_id],\n",
    "                    \"source\": [origin_source],\n",
    "                    \"sentence_1\": [aug_sent_1],\n",
    "                    \"sentence_2\": [aug_sent_2],\n",
    "                    \"label\": [origin_label],\n",
    "                    \"binary-label\": [origin_binarylabel],\n",
    "                    \"preprocessed_label\": [origin_preprocessed_label],\n",
    "                }\n",
    "            )\n",
    "            aug_df_label = pd.concat([aug_df_label, new_df], ignore_index=True)\n",
    "\n",
    "        dataset_idx += 1\n",
    "\n",
    "    return aug_df_label\n",
    "\n",
    "\n",
    "def AEDA_data():\n",
    "\n",
    "    train = pd.read_csv(\"train.csv\")\n",
    "    train = get_preprocessed_label(train)\n",
    "\n",
    "    train_0 = train[train[\"preprocessed_label\"] == 0].reset_index(drop=True)\n",
    "    train_1 = train[train[\"preprocessed_label\"] == 1].reset_index(drop=True)\n",
    "    train_2 = train[train[\"preprocessed_label\"] == 2].reset_index(drop=True)\n",
    "    train_3 = train[train[\"preprocessed_label\"] == 3].reset_index(drop=True)\n",
    "    train_4 = train[train[\"preprocessed_label\"] == 4].reset_index(drop=True)\n",
    "    train_5 = train[train[\"preprocessed_label\"] == 5].reset_index(drop=True)\n",
    "    \n",
    "    train_1_aug = concat_AEDA_sent(train_1, 1323)\n",
    "    train_2_aug = concat_AEDA_sent(train_2, 1906)\n",
    "    train_3_aug = concat_AEDA_sent(train_3, 1647)\n",
    "    train_4_aug = concat_AEDA_sent(train_4, 936)\n",
    "    train_5_aug = concat_AEDA_sent(train_5, 2750)\n",
    "\n",
    "    train_0 =  pd.concat([train_0, train_1_aug, train_2_aug, train_3_aug, train_4_aug, train_5_aug], ignore_index=True)\n",
    "    \n",
    "    auged_df = train_0.sample(frac=1).reset_index(drop=True)\n",
    "    \n",
    "    return auged_df"
   ]
  },
  {
   "cell_type": "code",
   "execution_count": null,
   "id": "ce1ca215",
   "metadata": {},
   "outputs": [],
   "source": [
    "final_df = AEDA_data()"
   ]
  },
  {
   "cell_type": "code",
   "execution_count": null,
   "id": "36275dde",
   "metadata": {},
   "outputs": [],
   "source": [
    "final_df.to_csv('./train_auged.csv', index=False)"
   ]
  },
  {
   "cell_type": "code",
   "execution_count": null,
   "id": "7135b670",
   "metadata": {},
   "outputs": [],
   "source": []
  }
 ],
 "metadata": {
  "kernelspec": {
   "display_name": "Python 3 (ipykernel)",
   "language": "python",
   "name": "python3"
  },
  "language_info": {
   "codemirror_mode": {
    "name": "ipython",
    "version": 3
   },
   "file_extension": ".py",
   "mimetype": "text/x-python",
   "name": "python",
   "nbconvert_exporter": "python",
   "pygments_lexer": "ipython3",
   "version": "3.8.5"
  }
 },
 "nbformat": 4,
 "nbformat_minor": 5
}
