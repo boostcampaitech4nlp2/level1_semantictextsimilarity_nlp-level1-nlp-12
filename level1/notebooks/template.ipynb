{
 "cells": [
  {
   "cell_type": "markdown",
   "metadata": {},
   "source": [
    "Jupyter은 사용하기 쉬운 환경이기는 하지만 모든 개발에서 사용할 수 없다.\n",
    "따라서 대회에서 제공되는 baseline 코드를 pyTorch 프로젝트로 템플릿화하는 게 첫번째 단계이다.\n",
    "PyTorch Projcet Template의 장점은 사용자 필요에 따라 수정하기 편리하고, 실행/데이터/모델/설정/로깅 등의 모듈을 분리할 수 있다는 장점이 있다."
   ]
  },
  {
   "cell_type": "markdown",
   "metadata": {},
   "source": [
    "https://github.com/victoresque/pytorch-template\n",
    "\n",
    "가장 많이 쓰는 위 링크의 템플릿의 폴더 구조는 \n",
    "📁pytorch-template/\n",
    "│\n",
    "├── train.py - main script to start training\n",
    "├── test.py - evaluation of trained model\n",
    "│\n",
    "├── config.json - holds configuration for training\n",
    "├── parse_config.py - class to handle config file and cli options\n",
    "│\n",
    "├── new_project.py - initialize new project with template files\n",
    "│\n",
    "├── 📁base/ - abstract base classes\n",
    "│   ├── base_data_loader.py\n",
    "│   ├── base_model.py\n",
    "│   └── base_trainer.py\n",
    "│\n",
    "├── 📁data_loader/ - anything about data loading goes here\n",
    "│   └── data_loaders.py\n",
    "│\n",
    "├── 📁data/ - default directory for storing input data\n",
    "│\n",
    "├── 📁model/ - models, losses, and metrics\n",
    "│   ├── model.py\n",
    "│   ├── metric.py\n",
    "│   └── loss.py\n",
    "│\n",
    "├── 📁saved/\n",
    "│   ├── models/ - trained models are saved here\n",
    "│   └── log/ - default logdir for tensorboard and logging output\n",
    "│\n",
    "├── 📁trainer/ - trainers\n",
    "│   └── trainer.py\n",
    "│\n",
    "├── 📁logger/ - module for tensorboard visualization and logging\n",
    "│   ├── visualization.py\n",
    "│   ├── logger.py\n",
    "│   └── logger_config.json\n",
    "│  \n",
    "└── 📁utils/ - small utility functions\n",
    "    ├── util.py\n",
    "    └── ..."
   ]
  },
  {
   "cell_type": "markdown",
   "metadata": {},
   "source": [
    "하지만 내게 맞춤화해서 이번 대회에서 사용한 템플릿 구조는 아래와 같다.\n",
    "📁pytorch-template/\n",
    "\n",
    "├── train.py - 모델을 학습한다. seed_everything 함수: seed 결정 / main 함수: Dataloader을 불러오고, Model과 Trainer을 설정한다\n",
    "├── inference.py - 저장된 모델로 예측을 진행한다. output 형식(submission_format.csv)을 불러와서 예측된 결과로 바꿔주고, output.csv로 출력한다\n",
    "├── requirements.txt - pytorch, pandas, wandb 등의 버전 정보를 저장한다\n",
    "│\n",
    "├── 📁data/ input 데이터(train.csv, dev.csv, test.csv)를 저장한다. 저작권 이슈가 있으므로 .gitignore을 사용해 remote에 올리지 않도록 주의한다\n",
    "│\n",
    "├── 📁dataloader/ 데이터를 로드해온다. \n",
    "│   └── data_loaders.py - baseline의 train.py에 있던 Dataset 클래스(tokenization, preprocessing, setup 등의 함수)도 포함되어있다. pytorch_lightning을 사용했다\n",
    "│\n",
    "├── 📁models/ \n",
    "│   ├── model.py - baseline의 train.py에 있던 Model 클래스\n",
    "│   ├── optimizer.py - config에서 optimizer, scheduler 정보를 받아와서 설정한다.\n",
    "│   └── loss_function.py - loss 함수로 L1loss를 설정한다\n",
    "│\n",
    "├── 📁configs/ config.json 파일을 사용하지 않고 argparse를 사용해서 argument를 설정한다. 모델 정보, wandb 플젝명, 데이터 경로 등을 수정할 수 있다.\n",
    "│   └── configs.py \n",
    "│\n",
    "├── 📁trainer/ - trainers\n",
    "│   └── trainer.py - earlystopping 등을 설정한다.\n",
    "│\n",
    "└── 📁notebook/ .ipynb 파일들을 모아뒀다."
   ]
  }
 ],
 "metadata": {
  "kernelspec": {
   "display_name": "Python 3 (ipykernel)",
   "language": "python",
   "name": "python3"
  },
  "language_info": {
   "codemirror_mode": {
    "name": "ipython",
    "version": 3
   },
   "file_extension": ".py",
   "mimetype": "text/x-python",
   "name": "python",
   "nbconvert_exporter": "python",
   "pygments_lexer": "ipython3",
   "version": "3.8.5"
  }
 },
 "nbformat": 4,
 "nbformat_minor": 4
}
