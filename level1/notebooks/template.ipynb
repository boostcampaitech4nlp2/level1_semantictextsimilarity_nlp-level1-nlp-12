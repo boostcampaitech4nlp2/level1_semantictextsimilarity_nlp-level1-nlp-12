{
 "cells": [
  {
   "cell_type": "markdown",
   "metadata": {},
   "source": [
    "Jupyter은 사용하기 쉬운 환경이기는 하지만 모든 개발에서 사용할 수 없다.\n",
    "따라서 대회에서 제공되는 baseline 코드를 pyTorch 프로젝트로 템플릿화하는 게 첫번째 단계이다.\n",
    "PyTorch Projcet Template의 장점은 사용자 필요에 따라 수정하기 편리하고, 실행/데이터/모델/설정/로깅 등의 모듈을 분리할 수 있다는 장점이 있다."
   ]
  },
  {
   "cell_type": "markdown",
   "metadata": {},
   "source": [
    "https://github.com/victoresque/pytorch-template\n",
    "\n",
    "가장 많이 쓰는 위 링크의 템플릿의 폴더 구조는 \n",
    "\n",
    "📁pytorch-template/ <br>\n",
    "│<br>\n",
    "├── train.py - main script to start training<br>\n",
    "├── test.py - evaluation of trained model<br>\n",
    "│<br>\n",
    "├── config.json - holds configuration for training<br>\n",
    "├── parse_config.py - class to handle config file and cli options<br>\n",
    "│<br>\n",
    "├── new_project.py - initialize new project with template files<br>\n",
    "│<br>\n",
    "├── 📁base/ - abstract base classes<br>\n",
    "│   ├── base_data_loader.py<br>\n",
    "│   ├── base_model.py<br>\n",
    "│   └── base_trainer.py<br>\n",
    "│<br>\n",
    "├── 📁data_loader/ - anything about data loading goes here<br>\n",
    "│   └── data_loaders.py<br>\n",
    "│<br>\n",
    "├── 📁data/ - default directory for storing input data<br>\n",
    "│<br>\n",
    "├── 📁model/ - models, losses, and metrics<br>\n",
    "│   ├── model.py<br>\n",
    "│   ├── metric.py<br>\n",
    "│   └── loss.py<br>\n",
    "│<br>\n",
    "├── 📁saved/<br>\n",
    "│   ├── models/ - trained models are saved here<br>\n",
    "│   └── log/ - default logdir for tensorboard and logging output<br>\n",
    "│<br>\n",
    "├── 📁trainer/ - trainers<br>\n",
    "│   └── trainer.py<br>\n",
    "│<br>\n",
    "├── 📁logger/ - module for tensorboard visualization and logging<br>\n",
    "│   ├── visualization.py<br>\n",
    "│   ├── logger.py<br>\n",
    "│   └── logger_config.json<br>\n",
    "│  <br>\n",
    "└── 📁utils/ - small utility functions<br>\n",
    "    ├── util.py<br>\n",
    "    └── ...<br>"
   ]
  },
  {
   "cell_type": "markdown",
   "metadata": {},
   "source": [
    "하지만 내게 맞춤화해서 이번 대회에서 사용한 템플릿 구조는 아래와 같다.<br>\n",
    "📁pytorch-template/<br>\n",
    "│<br>\n",
    "├── train.py - 모델을 학습한다. seed_everything 함수: seed 결정 / main 함수: Dataloader을 불러오고, Model과 Trainer을 설정한다<br>\n",
    "├── inference.py - 저장된 모델로 예측을 진행한다. output 형식(submission_format.csv)을 불러와서 예측된 결과로 바꿔주고, output.csv로 출력한다<br>\n",
    "├── requirements.txt - pytorch, pandas, wandb 등의 버전 정보를 저장한다 / pip install -r requirements.txt<br>\n",
    "│<br>\n",
    "├── 📁data/ input 데이터(train.csv, dev.csv, test.csv)를 저장한다. 저작권 이슈가 있으므로 .gitignore을 사용해 remote에 올리지 않도록 주의한다<br>\n",
    "│<br>\n",
    "├── 📁dataloader/ 데이터를 로드해온다. <br>\n",
    "│   └── data_loaders.py - baseline의 train.py에 있던 Dataset 클래스(tokenization, preprocessing, setup 등의 함수)도 포함되어있다. pytorch_lightning을 사용했다<br>\n",
    "│<br>\n",
    "├── 📁models/ <br>\n",
    "│   ├── model.py - baseline의 train.py에 있던 Model 클래스<br>\n",
    "│   ├── optimizer.py - config에서 optimizer, scheduler 정보를 받아와서 설정한다.<br>\n",
    "│   └── loss_function.py - loss 함수로 L1loss를 설정한다<br>\n",
    "│<br>\n",
    "├── 📁configs/ config.json 파일을 사용하지 않고 argparse를 사용해서 argument를 설정한다. 모델 정보, wandb 플젝명, 데이터 경로 등을 수정할 수 있다.<br>\n",
    "│   └── configs.py <br>\n",
    "│<br>\n",
    "├── 📁trainer/ - trainers<br>\n",
    "│   └── trainer.py - earlystopping 등을 설정한다.<br>\n",
    "│<br>\n",
    "└── 📁notebook/ .ipynb 파일들을 모아뒀다.<br>"
   ]
  }
 ],
 "metadata": {
  "kernelspec": {
   "display_name": "Python 3 (ipykernel)",
   "language": "python",
   "name": "python3"
  },
  "language_info": {
   "codemirror_mode": {
    "name": "ipython",
    "version": 3
   },
   "file_extension": ".py",
   "mimetype": "text/x-python",
   "name": "python",
   "nbconvert_exporter": "python",
   "pygments_lexer": "ipython3",
   "version": "3.8.5"
  }
 },
 "nbformat": 4,
 "nbformat_minor": 4
}
