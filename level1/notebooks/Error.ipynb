{
 "cells": [
  {
   "cell_type": "markdown",
   "id": "5ffdd594-f3de-4a15-8668-bffa4780a2d6",
   "metadata": {},
   "source": [
    "RuntimeError: CUDA out of memory.\n",
    "\n",
    "=> 원인: batch size가 너무 크거나, 코드 상에서 메모리 누수가 발생했기 때문\n",
    "해결: batch size 크기를 줄여가면서 gpu 캐시를 비워주는 아래 코드를 실행"
   ]
  },
  {
   "cell_type": "code",
   "execution_count": null,
   "id": "ab9da80f-e159-4b1d-8688-e4c438af83c8",
   "metadata": {},
   "outputs": [],
   "source": [
    "import gc\n",
    "import torch\n",
    "\n",
    "gc.collect()\n",
    "torch.cuda.empty_cache()"
   ]
  }
 ],
 "metadata": {
  "kernelspec": {
   "display_name": "Python 3 (ipykernel)",
   "language": "python",
   "name": "python3"
  },
  "language_info": {
   "codemirror_mode": {
    "name": "ipython",
    "version": 3
   },
   "file_extension": ".py",
   "mimetype": "text/x-python",
   "name": "python",
   "nbconvert_exporter": "python",
   "pygments_lexer": "ipython3",
   "version": "3.8.5"
  }
 },
 "nbformat": 4,
 "nbformat_minor": 5
}
