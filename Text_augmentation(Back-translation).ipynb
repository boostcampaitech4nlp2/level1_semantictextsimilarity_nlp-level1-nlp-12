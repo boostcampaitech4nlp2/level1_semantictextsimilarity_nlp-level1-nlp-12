{
 "cells": [
  {
   "cell_type": "code",
   "execution_count": 1,
   "id": "c2dfe3c3",
   "metadata": {},
   "outputs": [],
   "source": [
    "# Import Library\n",
    "\n",
    "# For Data Analysis\n",
    "import os\n",
    "import numpy as np                 \n",
    "import pandas as pd      \n",
    "\n",
    "# For Back Translation\n",
    "import googletrans"
   ]
  },
  {
   "cell_type": "code",
   "execution_count": 2,
   "id": "1c383198",
   "metadata": {},
   "outputs": [
    {
     "name": "stdout",
     "output_type": "stream",
     "text": [
      "나는 한국인 입니다. => I'm a Korean.\n",
      "I like burger. => 나는 버거를 좋아한다.\n"
     ]
    }
   ],
   "source": [
    "translator = googletrans.Translator()\n",
    "\n",
    "str1 = \"나는 한국인 입니다.\"\n",
    "str2 = \"I like burger.\"\n",
    "result1 = translator.translate(str1, dest='en')\n",
    "result2 = translator.translate(str2, dest='ko')\n",
    "\n",
    "print(f\"나는 한국인 입니다. => {result1.text}\")\n",
    "print(f\"I like burger. => {result2.text}\")"
   ]
  },
  {
   "cell_type": "code",
   "execution_count": 3,
   "id": "62001ae8",
   "metadata": {},
   "outputs": [
    {
     "data": {
      "text/html": [
       "<div>\n",
       "<style scoped>\n",
       "    .dataframe tbody tr th:only-of-type {\n",
       "        vertical-align: middle;\n",
       "    }\n",
       "\n",
       "    .dataframe tbody tr th {\n",
       "        vertical-align: top;\n",
       "    }\n",
       "\n",
       "    .dataframe thead th {\n",
       "        text-align: right;\n",
       "    }\n",
       "</style>\n",
       "<table border=\"1\" class=\"dataframe\">\n",
       "  <thead>\n",
       "    <tr style=\"text-align: right;\">\n",
       "      <th></th>\n",
       "      <th>id</th>\n",
       "      <th>source</th>\n",
       "      <th>sentence_1</th>\n",
       "      <th>sentence_2</th>\n",
       "      <th>label</th>\n",
       "      <th>binary-label</th>\n",
       "    </tr>\n",
       "  </thead>\n",
       "  <tbody>\n",
       "    <tr>\n",
       "      <th>0</th>\n",
       "      <td>boostcamp-sts-v1-train-000</td>\n",
       "      <td>nsmc-sampled</td>\n",
       "      <td>스릴도있고 반전도 있고 여느 한국영화 쓰레기들하고는 차원이 다르네요~</td>\n",
       "      <td>반전도 있고,사랑도 있고재미도있네요.</td>\n",
       "      <td>2.2</td>\n",
       "      <td>0.0</td>\n",
       "    </tr>\n",
       "    <tr>\n",
       "      <th>1</th>\n",
       "      <td>boostcamp-sts-v1-train-001</td>\n",
       "      <td>slack-rtt</td>\n",
       "      <td>앗 제가 접근권한이 없다고 뜹니다;;</td>\n",
       "      <td>오, 액세스 권한이 없다고 합니다.</td>\n",
       "      <td>4.2</td>\n",
       "      <td>1.0</td>\n",
       "    </tr>\n",
       "    <tr>\n",
       "      <th>2</th>\n",
       "      <td>boostcamp-sts-v1-train-002</td>\n",
       "      <td>petition-sampled</td>\n",
       "      <td>주택청약조건 변경해주세요.</td>\n",
       "      <td>주택청약 무주택기준 변경해주세요.</td>\n",
       "      <td>2.4</td>\n",
       "      <td>0.0</td>\n",
       "    </tr>\n",
       "    <tr>\n",
       "      <th>3</th>\n",
       "      <td>boostcamp-sts-v1-train-003</td>\n",
       "      <td>slack-sampled</td>\n",
       "      <td>입사후 처음 대면으로 만나 반가웠습니다.</td>\n",
       "      <td>화상으로만 보다가 리얼로 만나니 정말 반가웠습니다.</td>\n",
       "      <td>3.0</td>\n",
       "      <td>1.0</td>\n",
       "    </tr>\n",
       "    <tr>\n",
       "      <th>4</th>\n",
       "      <td>boostcamp-sts-v1-train-004</td>\n",
       "      <td>slack-sampled</td>\n",
       "      <td>뿌듯뿌듯 하네요!!</td>\n",
       "      <td>꼬옥 실제로 한번 뵈어요 뿌뿌뿌~!~!</td>\n",
       "      <td>0.0</td>\n",
       "      <td>0.0</td>\n",
       "    </tr>\n",
       "    <tr>\n",
       "      <th>...</th>\n",
       "      <td>...</td>\n",
       "      <td>...</td>\n",
       "      <td>...</td>\n",
       "      <td>...</td>\n",
       "      <td>...</td>\n",
       "      <td>...</td>\n",
       "    </tr>\n",
       "    <tr>\n",
       "      <th>9319</th>\n",
       "      <td>boostcamp-sts-v1-train-9319</td>\n",
       "      <td>petition-sampled</td>\n",
       "      <td>교원능력개발평가에서 교원이 보호받을 수 있는 장치를 마련해야합니다</td>\n",
       "      <td>본인이 납부한 국민연금 금액을 기준으로 대출을 받을 수 있는 제도를 마련해 주세요</td>\n",
       "      <td>0.2</td>\n",
       "      <td>0.0</td>\n",
       "    </tr>\n",
       "    <tr>\n",
       "      <th>9320</th>\n",
       "      <td>boostcamp-sts-v1-train-9320</td>\n",
       "      <td>petition-sampled</td>\n",
       "      <td>여성가족부의 폐지를 원합니드</td>\n",
       "      <td>여성가족부 폐지를 청원 합니다.</td>\n",
       "      <td>4.2</td>\n",
       "      <td>1.0</td>\n",
       "    </tr>\n",
       "    <tr>\n",
       "      <th>9321</th>\n",
       "      <td>boostcamp-sts-v1-train-9321</td>\n",
       "      <td>petition-sampled</td>\n",
       "      <td>국회의원들 월급좀 줄여주세요</td>\n",
       "      <td>공무원 봉급좀 줄이지좀 마세요</td>\n",
       "      <td>0.6</td>\n",
       "      <td>0.0</td>\n",
       "    </tr>\n",
       "    <tr>\n",
       "      <th>9322</th>\n",
       "      <td>boostcamp-sts-v1-train-9322</td>\n",
       "      <td>slack-sampled</td>\n",
       "      <td>오늘 못한 점심은 다음에 다시 츄라이 하기로 해요!!</td>\n",
       "      <td>오늘 못먹은 밥은 꼭 담에 먹기로 하고요!!</td>\n",
       "      <td>3.2</td>\n",
       "      <td>1.0</td>\n",
       "    </tr>\n",
       "    <tr>\n",
       "      <th>9323</th>\n",
       "      <td>boostcamp-sts-v1-train-9323</td>\n",
       "      <td>petition-sampled</td>\n",
       "      <td>법정공휴일 휴무관련 (근로자)</td>\n",
       "      <td>법정공휴일의 유급휴무화를 막아야 합니다.</td>\n",
       "      <td>1.4</td>\n",
       "      <td>0.0</td>\n",
       "    </tr>\n",
       "  </tbody>\n",
       "</table>\n",
       "<p>9324 rows × 6 columns</p>\n",
       "</div>"
      ],
      "text/plain": [
       "                               id            source  \\\n",
       "0      boostcamp-sts-v1-train-000      nsmc-sampled   \n",
       "1      boostcamp-sts-v1-train-001         slack-rtt   \n",
       "2      boostcamp-sts-v1-train-002  petition-sampled   \n",
       "3      boostcamp-sts-v1-train-003     slack-sampled   \n",
       "4      boostcamp-sts-v1-train-004     slack-sampled   \n",
       "...                           ...               ...   \n",
       "9319  boostcamp-sts-v1-train-9319  petition-sampled   \n",
       "9320  boostcamp-sts-v1-train-9320  petition-sampled   \n",
       "9321  boostcamp-sts-v1-train-9321  petition-sampled   \n",
       "9322  boostcamp-sts-v1-train-9322     slack-sampled   \n",
       "9323  boostcamp-sts-v1-train-9323  petition-sampled   \n",
       "\n",
       "                                  sentence_1  \\\n",
       "0     스릴도있고 반전도 있고 여느 한국영화 쓰레기들하고는 차원이 다르네요~   \n",
       "1                       앗 제가 접근권한이 없다고 뜹니다;;   \n",
       "2                             주택청약조건 변경해주세요.   \n",
       "3                     입사후 처음 대면으로 만나 반가웠습니다.   \n",
       "4                                 뿌듯뿌듯 하네요!!   \n",
       "...                                      ...   \n",
       "9319    교원능력개발평가에서 교원이 보호받을 수 있는 장치를 마련해야합니다   \n",
       "9320                         여성가족부의 폐지를 원합니드   \n",
       "9321                         국회의원들 월급좀 줄여주세요   \n",
       "9322           오늘 못한 점심은 다음에 다시 츄라이 하기로 해요!!   \n",
       "9323                        법정공휴일 휴무관련 (근로자)   \n",
       "\n",
       "                                         sentence_2  label  binary-label  \n",
       "0                              반전도 있고,사랑도 있고재미도있네요.    2.2           0.0  \n",
       "1                               오, 액세스 권한이 없다고 합니다.    4.2           1.0  \n",
       "2                                주택청약 무주택기준 변경해주세요.    2.4           0.0  \n",
       "3                      화상으로만 보다가 리얼로 만나니 정말 반가웠습니다.    3.0           1.0  \n",
       "4                             꼬옥 실제로 한번 뵈어요 뿌뿌뿌~!~!    0.0           0.0  \n",
       "...                                             ...    ...           ...  \n",
       "9319  본인이 납부한 국민연금 금액을 기준으로 대출을 받을 수 있는 제도를 마련해 주세요    0.2           0.0  \n",
       "9320                              여성가족부 폐지를 청원 합니다.    4.2           1.0  \n",
       "9321                               공무원 봉급좀 줄이지좀 마세요    0.6           0.0  \n",
       "9322                       오늘 못먹은 밥은 꼭 담에 먹기로 하고요!!    3.2           1.0  \n",
       "9323                         법정공휴일의 유급휴무화를 막아야 합니다.    1.4           0.0  \n",
       "\n",
       "[9324 rows x 6 columns]"
      ]
     },
     "execution_count": 3,
     "metadata": {},
     "output_type": "execute_result"
    }
   ],
   "source": [
    "# file path save\n",
    "FILE_PATH = './data'\n",
    "train_path = os.path.join(FILE_PATH, 'train.csv')\n",
    "valid_path = os.path.join(FILE_PATH, 'dev.csv')\n",
    "test_path = os.path.join(FILE_PATH, 'test.csv')\n",
    "ss_path = os.path.join(FILE_PATH, 'sample_submission.csv')\n",
    "\n",
    "# Load dataset\n",
    "train_df = pd.read_csv(train_path, engine='python')\n",
    "valid_df = pd.read_csv(valid_path, engine='python')\n",
    "test_df = pd.read_csv(test_path, engine='python')\n",
    "ss_df = pd.read_csv(ss_path, engine='python')\n",
    "\n",
    "RANDOM_SEED = 12\n",
    "\n",
    "train_df"
   ]
  },
  {
   "cell_type": "code",
   "execution_count": 4,
   "id": "200b64b5",
   "metadata": {},
   "outputs": [
    {
     "data": {
      "text/plain": [
       "'스릴도있고 반전도 있고 여느 한국영화 쓰레기들하고는 차원이 다르네요~'"
      ]
     },
     "execution_count": 4,
     "metadata": {},
     "output_type": "execute_result"
    }
   ],
   "source": [
    "train_df.iloc[0]['sentence_1']"
   ]
  },
  {
   "cell_type": "code",
   "execution_count": 5,
   "id": "5dba0704",
   "metadata": {},
   "outputs": [
    {
     "data": {
      "text/plain": [
       "'There is a thrill, a reversal, and a different dimension from other Korean movie garbage ~'"
      ]
     },
     "execution_count": 5,
     "metadata": {},
     "output_type": "execute_result"
    }
   ],
   "source": [
    "ko_src = train_df.iloc[0]['sentence_1']\n",
    "\n",
    "en_src = translator.translate(ko_src, dest='en')\n",
    "en_src.text"
   ]
  },
  {
   "cell_type": "code",
   "execution_count": 6,
   "id": "4805d602",
   "metadata": {},
   "outputs": [
    {
     "data": {
      "text/plain": [
       "'다른 한국 영화 쓰레기와 스릴, 반전 및 다른 차원이 있습니다 ~'"
      ]
     },
     "execution_count": 6,
     "metadata": {},
     "output_type": "execute_result"
    }
   ],
   "source": [
    "ko_dst = translator.translate(en_src.text, dest='ko')\n",
    "ko_dst.text"
   ]
  },
  {
   "cell_type": "code",
   "execution_count": 7,
   "id": "eb551de3",
   "metadata": {},
   "outputs": [
    {
     "data": {
      "text/plain": [
       "0       2.0~2.9\n",
       "1       4.0~4.9\n",
       "2       2.0~2.9\n",
       "3       3.0~3.9\n",
       "4           0.0\n",
       "         ...   \n",
       "9319    0.1~0.9\n",
       "9320    4.0~4.9\n",
       "9321    0.1~0.9\n",
       "9322    3.0~3.9\n",
       "9323    1.0~1.9\n",
       "Name: label-binning, Length: 9324, dtype: category\n",
       "Categories (7, object): ['0.0' < '0.1~0.9' < '1.0~1.9' < '2.0~2.9' < '3.0~3.9' < '4.0~4.9' < '5.0']"
      ]
     },
     "execution_count": 7,
     "metadata": {},
     "output_type": "execute_result"
    }
   ],
   "source": [
    "bins = [-0.1, 0.0, 0.9, 1.9, 2.9, 3.9, 4.9, 5]\n",
    "df_label_bins = pd.cut(train_df['label'], bins, labels=['0.0','0.1~0.9', '1.0~1.9', '2.0~2.9', \n",
    "                                                        '3.0~3.9', '4.0~4.9', '5.0'])\n",
    "\n",
    "# train_df 복사\n",
    "new_train_df = train_df.copy()\n",
    "new_train_df['label-binning'] = df_label_bins\n",
    "new_train_df['label-binning']"
   ]
  },
  {
   "cell_type": "code",
   "execution_count": 8,
   "id": "29c77655",
   "metadata": {},
   "outputs": [
    {
     "data": {
      "text/plain": [
       "0.0        2119\n",
       "0.1~0.9    1592\n",
       "1.0~1.9    1368\n",
       "2.0~2.9    1137\n",
       "3.0~3.9    1715\n",
       "4.0~4.9    1302\n",
       "5.0          91\n",
       "Name: label-binning, dtype: int64"
      ]
     },
     "execution_count": 8,
     "metadata": {},
     "output_type": "execute_result"
    }
   ],
   "source": [
    "new_train_df['label-binning'].value_counts().sort_index()"
   ]
  },
  {
   "cell_type": "code",
   "execution_count": null,
   "id": "69bfa31c",
   "metadata": {},
   "outputs": [],
   "source": [
    "def back_translation_df(df, n, key, cnt) :\n",
    "    src_df = df[(df['label-binning'] == key)]\n",
    "    \n",
    "    index_list = []\n",
    "    np.random.seed(RANDOM_SEED)\n",
    "\n",
    "    # random_swap은 2개씩 나오기 때문에 cnt // 2\n",
    "    while len(index_list) < cnt//2 :\n",
    "        random_index = np.random.randint(len(src_df))\n",
    "\n",
    "        if random_index not in index_list :\n",
    "            index_list.append(random_index)\n",
    "            \n",
    "    tmp_df = src_df.iloc[index_list]\n",
    "    \n",
    "    aug_series_list = []\n",
    "\n",
    "    for i in range(len(tmp_df)) :\n",
    "        series = tmp_df.iloc[i].copy()\n",
    "        sentence1 = series['sentence_1']\n",
    "        sentence2 = series['sentence_2']\n",
    "\n",
    "        words1 = [word for word in sentence1.split(' ') if word != \"\"]\n",
    "        words2 = [word for word in sentence2.split(' ') if word != \"\"]\n",
    "\n",
    "        sentence1 = ' '.join(random_swap(words1, n))\n",
    "        sentence2 = ' '.join(random_swap(words2, n))\n",
    "\n",
    "        series1 = series.copy()\n",
    "        series2 = series.copy()\n",
    "        series_all = series.copy()\n",
    "\n",
    "        series1['sentence_1'] = sentence1\n",
    "        series2['sentence_2'] = sentence2\n",
    "\n",
    "        aug_series_list.extend([series1, series2])\n",
    "        \n",
    "    aug_df = pd.DataFrame(aug_series_list)\n",
    "    \n",
    "    return aug_df"
   ]
  },
  {
   "cell_type": "code",
   "execution_count": 15,
   "id": "528cd411",
   "metadata": {},
   "outputs": [],
   "source": [
    "df = new_train_df.copy()\n",
    "key = '0.1~0.9'\n",
    "cnt = 100"
   ]
  },
  {
   "cell_type": "code",
   "execution_count": 20,
   "id": "2984abc0",
   "metadata": {},
   "outputs": [],
   "source": [
    "src_df = df[(df['label-binning'] == key)]\n",
    "    \n",
    "index_list = []\n",
    "np.random.seed(RANDOM_SEED)\n",
    "\n",
    "# random_swap은 2개씩 나오기 때문에 cnt // 2\n",
    "while len(index_list) < cnt//2 :\n",
    "    random_index = np.random.randint(len(src_df))\n",
    "\n",
    "    if random_index not in index_list :\n",
    "        index_list.append(random_index)\n",
    "        \n",
    "tmp_df = src_df.iloc[index_list]\n",
    "\n",
    "aug_series_list = []"
   ]
  },
  {
   "cell_type": "code",
   "execution_count": 24,
   "id": "9971e478",
   "metadata": {},
   "outputs": [
    {
     "data": {
      "text/plain": [
       "'경찰관과 소방관의 처우를 관할 국회의원과 동일하게 해 주십시오.'"
      ]
     },
     "execution_count": 24,
     "metadata": {},
     "output_type": "execute_result"
    }
   ],
   "source": [
    "tmp_df.iloc[0]['sentence_1']"
   ]
  },
  {
   "cell_type": "code",
   "execution_count": 27,
   "id": "30c48972",
   "metadata": {},
   "outputs": [
    {
     "name": "stdout",
     "output_type": "stream",
     "text": [
      "Please do the same as the police officers and firefighters.\n",
      "경찰관과 소방관과 똑같이하십시오.\n"
     ]
    }
   ],
   "source": [
    "ko_src = tmp_df.iloc[0]['sentence_1']\n",
    "\n",
    "en_src = translator.translate(ko_src, dest='en')\n",
    "ko_dst = translator.translate(en_src.text, dest='ko')\n",
    "\n",
    "print(en_src.text)\n",
    "print(ko_dst.text)"
   ]
  }
 ],
 "metadata": {
  "hide_input": false,
  "kernelspec": {
   "display_name": "Python 3 (ipykernel)",
   "language": "python",
   "name": "python3"
  },
  "language_info": {
   "codemirror_mode": {
    "name": "ipython",
    "version": 3
   },
   "file_extension": ".py",
   "mimetype": "text/x-python",
   "name": "python",
   "nbconvert_exporter": "python",
   "pygments_lexer": "ipython3",
   "version": "3.8.13"
  },
  "toc": {
   "base_numbering": 1,
   "nav_menu": {},
   "number_sections": true,
   "sideBar": true,
   "skip_h1_title": false,
   "title_cell": "Table of Contents",
   "title_sidebar": "Contents",
   "toc_cell": false,
   "toc_position": {},
   "toc_section_display": true,
   "toc_window_display": false
  }
 },
 "nbformat": 4,
 "nbformat_minor": 5
}
